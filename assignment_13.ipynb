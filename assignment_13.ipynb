{
 "cells": [
  {
   "cell_type": "markdown",
   "id": "718fb249",
   "metadata": {},
   "source": [
    "# 1. What advantages do Excel spreadsheets have over CSV spreadsheets?"
   ]
  },
  {
   "cell_type": "markdown",
   "id": "ec197cda",
   "metadata": {},
   "source": [
    "<b>Ans: </b>The Advantages of Excel over CSV are:\n",
    "\n",
    "Excel (XLS and XLSX) file formats are better for storing and analysing complex data. <br>\n",
    "An Excel not only stores data but can also do operations on the data using macros, formulas etc.. <br>\n",
    "CSV files are plain-text files, Does not contain formatting, formulas, macros, etc. It is also known as flat files."
   ]
  },
  {
   "cell_type": "markdown",
   "id": "a7e62ccd",
   "metadata": {},
   "source": [
    "# 2.What do you pass to csv.reader() and csv.writer() to create reader and writer objects?"
   ]
  },
  {
   "cell_type": "code",
   "execution_count": null,
   "id": "1b587a87",
   "metadata": {},
   "outputs": [],
   "source": [
    "import csv\n",
    "with open('text.csv','r') as file:\n",
    "    csv_file = csv.reader(file,delimiter=',')\n",
    "    for ele in csv_file:\n",
    "        print(ele)"
   ]
  },
  {
   "cell_type": "markdown",
   "id": "7b0288c6",
   "metadata": {},
   "source": [
    "# 3. What modes do File objects for reader and writer objects need to be opened in?"
   ]
  },
  {
   "cell_type": "markdown",
   "id": "e329941d",
   "metadata": {},
   "source": [
    "<b>Ans: </b>For csv.reader(iterable_file_object), the file objects needed to be opened in read mode mode='r' Whereas for csv.writer(iterable_file_object) the file objects needed to be opened in write mode mode='w'"
   ]
  },
  {
   "cell_type": "markdown",
   "id": "81230800",
   "metadata": {},
   "source": [
    "# 4. What method takes a list argument and writes it to a CSV file?"
   ]
  },
  {
   "cell_type": "code",
   "execution_count": 1,
   "id": "6da692ed",
   "metadata": {},
   "outputs": [],
   "source": [
    "# Example Program\n",
    "import csv      \n",
    "fields = ['Name', 'Branch', 'Year', 'CGPA'] #column names \n",
    "rows = [ \n",
    "            ['Nikhil', 'COE', '2', '9.0'],  # data rows of csv file \n",
    "            ['Sanchit', 'COE', '2', '9.1'], \n",
    "            ['Ravi', 'IT', '2', '9.3']\n",
    "       ] \n",
    "with open(\"university_records.csv\", 'w') as csvfile: \n",
    "    csvwriter = csv.writer(csvfile) # creating a csv writer object \n",
    "    csvwriter.writerow(fields) # writing the fields \n",
    "    csvwriter.writerows(rows) # writing the data rows "
   ]
  },
  {
   "cell_type": "markdown",
   "id": "5c2fbe50",
   "metadata": {},
   "source": [
    "# 5. What do the keyword arguments delimiter and line terminator do?"
   ]
  },
  {
   "cell_type": "markdown",
   "id": "45e57ae0",
   "metadata": {},
   "source": [
    "<b>Ans: </b>Lets take the example of a csv file: <br>\n",
    "First Name, Last Name, Age <br>\n",
    "Mano, Vishnu, 24<br>\n",
    "Vishnu, Vardhan, 21<br>\n",
    "Here ',' is Delimiter. We can use any Character as per our needs if required. Similarly Line Terminator comes at end of line by default it is newline and can be changed accourding to Requirement."
   ]
  },
  {
   "cell_type": "markdown",
   "id": "2ed115d1",
   "metadata": {},
   "source": [
    "# 6. What function takes a string of JSON data and returns a Python data structure?"
   ]
  },
  {
   "cell_type": "markdown",
   "id": "1a352e88",
   "metadata": {},
   "source": [
    "<b>Ans: </b>loads() method takes a string of JSON data and returns a Python data structure"
   ]
  },
  {
   "cell_type": "code",
   "execution_count": 4,
   "id": "968d8235",
   "metadata": {},
   "outputs": [
    {
     "name": "stdout",
     "output_type": "stream",
     "text": [
      "{\n",
      "    \"Name\": \"Amit Kumar\",\n",
      "    \"Qualification\": \"Bachelor of Technology\",\n",
      "    \"Stream\": \"Computer Science and Engineering\"\n",
      "}\n",
      "Type of my_details_json is <class 'str'>\n",
      "{'Name': 'Amit Kumar', 'Qualification': 'Bachelor of Technology', 'Stream': 'Computer Science and Engineering'}\n",
      "Type of my_details is <class 'dict'>\n"
     ]
    }
   ],
   "source": [
    "# Example of json.loads() method\n",
    "import json\n",
    "my_details_json ='''{\n",
    "    \"Name\": \"Amit Kumar\",\n",
    "    \"Qualification\": \"Bachelor of Technology\",\n",
    "    \"Stream\": \"Computer Science and Engineering\"\n",
    "}'''\n",
    "print(my_details_json)\n",
    "print(f'Type of my_details_json is {type(my_details_json)}')\n",
    "my_details = json.loads(my_details_json)\n",
    "print(my_details)\n",
    "print(f'Type of my_details is {type(my_details)}')"
   ]
  },
  {
   "cell_type": "markdown",
   "id": "13169ed5",
   "metadata": {},
   "source": [
    "# 7. What function takes a Python data structure and returns a string of JSON data?"
   ]
  },
  {
   "cell_type": "markdown",
   "id": "84b788ad",
   "metadata": {},
   "source": [
    "<b>Ans: </b>dumps() method takes a python data structure and returns a string of JSON data"
   ]
  },
  {
   "cell_type": "code",
   "execution_count": 5,
   "id": "bce9aa7d",
   "metadata": {},
   "outputs": [
    {
     "name": "stdout",
     "output_type": "stream",
     "text": [
      "{'Name': 'Amit Kumar', 'Stream': 'Computer Science and Engineering', 'Qualification': 'Bachelor of Technology'}\n",
      "Type of my_details is <class 'dict'>\n",
      "{\n",
      "    \"Name\": \"Amit Kumar\",\n",
      "    \"Qualification\": \"Bachelor of Technology\",\n",
      "    \"Stream\": \"Computer Science and Engineering\"\n",
      "}\n",
      "Type of my_details_json is <class 'str'>\n"
     ]
    }
   ],
   "source": [
    "# Example of json.dumps() method\n",
    "import json\n",
    "my_details = {\n",
    "    'Name':'Amit Kumar',\n",
    "    'Stream':'Computer Science and Engineering',\n",
    "    'Qualification':'Bachelor of Technology'\n",
    "}\n",
    "print(my_details)\n",
    "print(f'Type of my_details is {type(my_details)}')\n",
    "my_details_json = json.dumps(my_details, indent=4, sort_keys=True)\n",
    "print(my_details_json)\n",
    "print(f'Type of my_details_json is {type(my_details_json)}')"
   ]
  },
  {
   "cell_type": "markdown",
   "id": "e6b4b8ee",
   "metadata": {},
   "source": []
  }
 ],
 "metadata": {
  "kernelspec": {
   "display_name": "Python 3 (ipykernel)",
   "language": "python",
   "name": "python3"
  },
  "language_info": {
   "codemirror_mode": {
    "name": "ipython",
    "version": 3
   },
   "file_extension": ".py",
   "mimetype": "text/x-python",
   "name": "python",
   "nbconvert_exporter": "python",
   "pygments_lexer": "ipython3",
   "version": "3.10.9"
  }
 },
 "nbformat": 4,
 "nbformat_minor": 5
}
