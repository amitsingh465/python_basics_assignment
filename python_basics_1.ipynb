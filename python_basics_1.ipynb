{
 "cells": [
  {
   "cell_type": "markdown",
   "id": "e5ea9ab3",
   "metadata": {},
   "source": [
    "# q no - 1\n",
    "* = mathematical operator\n",
    "\"hello\" = values\n",
    "-87.8 = values\n",
    "- = mathematical opearator\n",
    "/ = mathematical operator\n",
    "+ = mathematical operator\n",
    "6 = values"
   ]
  },
  {
   "cell_type": "markdown",
   "id": "3966e1fd",
   "metadata": {},
   "source": [
    "# q no-2\n",
    "\n",
    "What is the difference between string and variable?\n",
    "strings are series of characters which are used for conveying textual information.\n",
    "variable is created to store the information.\n",
    "\n",
    "x = \"welcome to Ineuron\"\n",
    "here x is a variable and welcome to ineuron is a string"
   ]
  },
  {
   "cell_type": "markdown",
   "id": "e36916e6",
   "metadata": {},
   "source": [
    "# q no-3\n",
    "\n",
    "Describe three different data types.\n",
    "There are total three of fundamental data types in the python which is follows as the mentioned below.\n",
    "\n",
    "Integer data types : we can use integer data types to represnts only NUMBERS(only Int values).\n",
    "    \n",
    "Float data types :we can use this data types to represents to Any number, it can be Any value oR Any points.(decimal value oR points)\n",
    "\n",
    "Complex data types : Complex numbers are the combinations of real numbers And imaginary numbers (real + imaginary).\n"
   ]
  },
  {
   "cell_type": "markdown",
   "id": "3dad0a8f",
   "metadata": {},
   "source": [
    "q no-4\n",
    "\n",
    "what is an expression made up of ? what do all expression do ? \n",
    "\n",
    "An expression is a combination of values, variables, operators, and calls to functions. Expressions need to be evaluated. If we ask Python to print an expression, the interpreter evaluates the expression and displays the result. The examples of this expressions mentioned below.\n",
    "\n"
   ]
  },
  {
   "cell_type": "code",
   "execution_count": 1,
   "id": "53bc9b53",
   "metadata": {},
   "outputs": [
    {
     "data": {
      "text/plain": [
       "0"
      ]
     },
     "execution_count": 1,
     "metadata": {},
     "output_type": "execute_result"
    }
   ],
   "source": [
    "30+20-25*2"
   ]
  },
  {
   "cell_type": "markdown",
   "id": "544f8506",
   "metadata": {},
   "source": [
    "Q no -6\n",
    "\n",
    "# After running the following code, what does the variable bacon contain?\n",
    "bacon = 22\n",
    "bacon + 1\n",
    "\n",
    "The variable bacon is set to 22 .The expression bacon + 1 does not reassign the value in bacon (that would the case if the expression is like bacon = bacon + 1 instead of bacon + 1)\n"
   ]
  },
  {
   "cell_type": "markdown",
   "id": "f23cd92a",
   "metadata": {},
   "source": [
    "q no -5\n",
    "This assignment statements, like spam = 10. What is the difference between an\n",
    "expression and a statement?\n",
    "\n",
    "An expression is a combination of values, variables, and operators.When we type an expression at the prompt, the interpreter evaluates it, which means that it finds the value of the expression.\n",
    "\n",
    "* eg: 10+50-30*2 is an example of a expression\n",
    "\n",
    "A statement is a unit of code that has an effect, like creating a variable or displaying a value.When we type a statement, the interpreter executes it, which means that it does whatever the statement says. In general, statements don’t have values.\n",
    "\n",
    "* eg: variable declaration and assignment are statements because they do not return a value\n"
   ]
  },
  {
   "cell_type": "code",
   "execution_count": 3,
   "id": "1d99cd36",
   "metadata": {},
   "outputs": [
    {
     "name": "stdout",
     "output_type": "stream",
     "text": [
      "spamspamspam\n",
      "spamspamspam\n"
     ]
    }
   ],
   "source": [
    "# q no-7\n",
    "# What should the values of the following two terms be?\n",
    "print('spam' + 'spamspam')\n",
    "print('spam'*3)\n"
   ]
  },
  {
   "cell_type": "markdown",
   "id": "5d9a9ee1",
   "metadata": {},
   "source": [
    "Q no -8 Why is eggs a valid variable name while 100 is invalid?\n",
    "\n",
    "Because string can be a variable name but we can not assign integer as a variable name."
   ]
  },
  {
   "cell_type": "markdown",
   "id": "0490a226",
   "metadata": {},
   "source": [
    "9. What three functions can be used to get the integer, floating-point number, or string\n",
    "version of a value?\n",
    "\n",
    " The int(),float(),and str() functions will evaluate to the integer,floating-point number,string version of the value passed to them.\n",
    "\n"
   ]
  },
  {
   "cell_type": "code",
   "execution_count": 6,
   "id": "b92bceee",
   "metadata": {},
   "outputs": [
    {
     "name": "stdout",
     "output_type": "stream",
     "text": [
      "10\n",
      "10.0\n",
      "10\n"
     ]
    }
   ],
   "source": [
    "print(int(10.0))\n",
    "print(float(10))\n",
    "print(str(10))"
   ]
  },
  {
   "cell_type": "markdown",
   "id": "898898fb",
   "metadata": {},
   "source": [
    "10. Why does this expression cause an error? How can you fix it?\n",
    "'i have eaten' + 99 + 'burritos'\n",
    "\n",
    "we can not concatenate an integer with a string. We would have to convert the integer into an string."
   ]
  },
  {
   "cell_type": "code",
   "execution_count": 9,
   "id": "6b4db723",
   "metadata": {},
   "outputs": [
    {
     "name": "stdout",
     "output_type": "stream",
     "text": [
      "i have eaten 99 burritos\n"
     ]
    }
   ],
   "source": [
    "print('i have eaten' + ' 99 ' + 'burritos')"
   ]
  },
  {
   "cell_type": "code",
   "execution_count": null,
   "id": "12d69dda",
   "metadata": {},
   "outputs": [],
   "source": []
  }
 ],
 "metadata": {
  "kernelspec": {
   "display_name": "Python 3 (ipykernel)",
   "language": "python",
   "name": "python3"
  },
  "language_info": {
   "codemirror_mode": {
    "name": "ipython",
    "version": 3
   },
   "file_extension": ".py",
   "mimetype": "text/x-python",
   "name": "python",
   "nbconvert_exporter": "python",
   "pygments_lexer": "ipython3",
   "version": "3.10.9"
  }
 },
 "nbformat": 4,
 "nbformat_minor": 5
}
