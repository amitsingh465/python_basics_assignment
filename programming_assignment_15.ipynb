{
 "cells": [
  {
   "cell_type": "markdown",
   "id": "3487a669",
   "metadata": {},
   "source": [
    "Please write a program using generator to print the numbers which can be divisible by 5 and\n",
    "7 between 0 and n in comma separated form while n is input by console."
   ]
  },
  {
   "cell_type": "code",
   "execution_count": 1,
   "id": "772a95e3",
   "metadata": {},
   "outputs": [
    {
     "name": "stdout",
     "output_type": "stream",
     "text": [
      "0 35 70 "
     ]
    }
   ],
   "source": [
    "def showDivisible(in_num):\n",
    "    for ele in range(0,in_num):\n",
    "        if (ele%5 == 0) and (ele%7 == 0):\n",
    "            yield ele\n",
    "for ele in showDivisible(100):\n",
    "    print(ele,end=' ')"
   ]
  },
  {
   "cell_type": "markdown",
   "id": "2455ff4a",
   "metadata": {},
   "source": [
    "Please write a program using generator to print the even numbers between 0 and n in comma\n",
    "separated form while n is input by console."
   ]
  },
  {
   "cell_type": "code",
   "execution_count": 2,
   "id": "07247a59",
   "metadata": {},
   "outputs": [
    {
     "name": "stdout",
     "output_type": "stream",
     "text": [
      "0 2 4 6 8 10 12 14 16 18 20 22 24 26 28 30 32 34 36 38 40 42 44 46 48 "
     ]
    }
   ],
   "source": [
    "def even_number(n):\n",
    "    for i in range (0,n):\n",
    "        if i%2 == 0:\n",
    "            yield i\n",
    "for i in even_number(50):\n",
    "    print(i,end = ' ')"
   ]
  },
  {
   "cell_type": "markdown",
   "id": "819ba0e1",
   "metadata": {},
   "source": [
    "Please write a program using list comprehension to print the Fibonacci Sequence in comma\n",
    "separated form with a given n input by console."
   ]
  },
  {
   "cell_type": "code",
   "execution_count": 12,
   "id": "eee5a409",
   "metadata": {},
   "outputs": [
    {
     "name": "stdout",
     "output_type": "stream",
     "text": [
      "[0, 1, 1, 2, 3, 5, 8, 13, 21, 34, 55, 89, 144, 233, 377, 610, 987, 1597, 2584, 4181]\n"
     ]
    }
   ],
   "source": [
    "def fibonacci_sequence(n):\n",
    "    \n",
    "        if n==0:\n",
    "            return 0\n",
    "        elif n==1:\n",
    "            return 1\n",
    "        else:\n",
    "            return fibonacci_sequence(n-1) + fibonacci_sequence(n-2)\n",
    "print([fibonacci_sequence(x) for x in range(20)] )\n",
    "\n"
   ]
  },
  {
   "cell_type": "markdown",
   "id": "42451cb0",
   "metadata": {},
   "source": [
    "Assuming that we have some email addresses in the &quot;username@companyname.com&quot; format,\n",
    "please write program to print the user name of a given email address. Both user names and\n",
    "company names are composed of letters only."
   ]
  },
  {
   "cell_type": "code",
   "execution_count": 13,
   "id": "ef053036",
   "metadata": {},
   "outputs": [
    {
     "name": "stdout",
     "output_type": "stream",
     "text": [
      "Enter Email Address(es): arajiim465@gmail.com\n",
      "Username of arajiim465@gmail.com is arajiim465\n",
      "Enter Email Address(es): kumar.amit@avalara.com\n",
      "Username of kumar.amit@avalara.com is kumar.amit\n"
     ]
    }
   ],
   "source": [
    "def getUsernames():\n",
    "    in_string = input('Enter Email Address(es): ')\n",
    "    out_string = in_string.split('@')\n",
    "    print(f'Username of {in_string} is {out_string[0]}')\n",
    "\n",
    "for i in range(2):\n",
    "    getUsernames()"
   ]
  },
  {
   "cell_type": "markdown",
   "id": "6d7b8d79",
   "metadata": {},
   "source": [
    "Define a class named Shape and its subclass Square. The Square class has an init function\n",
    "which takes a length as argument. Both classes have a area function which can print the area\n",
    "of the shape where Shape&#39;s area is 0 by default."
   ]
  },
  {
   "cell_type": "code",
   "execution_count": 14,
   "id": "45b052af",
   "metadata": {},
   "outputs": [
    {
     "name": "stdout",
     "output_type": "stream",
     "text": [
      "The area of the shape is: 0\n",
      "The area of the square is: 25\n",
      "The area of the square is: 25\n"
     ]
    }
   ],
   "source": [
    "class Shape:\n",
    "    def __init__(self):\n",
    "        self.area = 0\n",
    "\n",
    "    def calculate_area(self):\n",
    "        print(f\"The area of the shape is: {self.area}\")\n",
    "\n",
    "\n",
    "class Square(Shape):\n",
    "    def __init__(self, length):\n",
    "        super().__init__()\n",
    "        self.length = length\n",
    "        self.calculate_area()\n",
    "\n",
    "    def calculate_area(self):\n",
    "        self.area = self.length ** 2\n",
    "        print(f\"The area of the square is: {self.area}\")\n",
    "\n",
    "\n",
    "# Example usage\n",
    "shape = Shape()\n",
    "shape.calculate_area()  # Output: The area of the shape is: 0\n",
    "\n",
    "square = Square(5)  # Output: The area of the square is: 25\n",
    "square.calculate_area()  # Output: The area of the square is: 25\n"
   ]
  },
  {
   "cell_type": "code",
   "execution_count": null,
   "id": "a3546592",
   "metadata": {},
   "outputs": [],
   "source": []
  }
 ],
 "metadata": {
  "kernelspec": {
   "display_name": "Python 3 (ipykernel)",
   "language": "python",
   "name": "python3"
  },
  "language_info": {
   "codemirror_mode": {
    "name": "ipython",
    "version": 3
   },
   "file_extension": ".py",
   "mimetype": "text/x-python",
   "name": "python",
   "nbconvert_exporter": "python",
   "pygments_lexer": "ipython3",
   "version": "3.10.9"
  }
 },
 "nbformat": 4,
 "nbformat_minor": 5
}
