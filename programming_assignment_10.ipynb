{
 "cells": [
  {
   "cell_type": "markdown",
   "id": "e9923942",
   "metadata": {},
   "source": [
    "1. Write a Python program to find sum of elements in list?"
   ]
  },
  {
   "cell_type": "code",
   "execution_count": 6,
   "id": "2fd35473",
   "metadata": {},
   "outputs": [
    {
     "name": "stdout",
     "output_type": "stream",
     "text": [
      "15\n"
     ]
    }
   ],
   "source": [
    "def sum_of_element(l):\n",
    "    sum = 0\n",
    "    for i in l:\n",
    "        sum += i\n",
    "    return sum\n",
    "l = [2,4,6,3]\n",
    "result = sum_of_element(l)\n",
    "print(result)"
   ]
  },
  {
   "cell_type": "markdown",
   "id": "df76b219",
   "metadata": {},
   "source": [
    "2. Write a Python program to Multiply all numbers in the list?"
   ]
  },
  {
   "cell_type": "code",
   "execution_count": 8,
   "id": "4f1893d2",
   "metadata": {},
   "outputs": [
    {
     "name": "stdout",
     "output_type": "stream",
     "text": [
      "120\n"
     ]
    }
   ],
   "source": [
    "def mul_number_list(l):\n",
    "    multiply = 1\n",
    "    for i in  l:\n",
    "        multiply = multiply * i\n",
    "    return multiply\n",
    "l = [1,2,3,4,5]\n",
    "result = mul_number_list(l)\n",
    "print(result)\n",
    "    "
   ]
  },
  {
   "cell_type": "markdown",
   "id": "d0888fde",
   "metadata": {},
   "source": [
    "3. Write a Python program to find smallest number in a list?"
   ]
  },
  {
   "cell_type": "code",
   "execution_count": 16,
   "id": "4d4cea66",
   "metadata": {},
   "outputs": [
    {
     "name": "stdout",
     "output_type": "stream",
     "text": [
      "3\n"
     ]
    }
   ],
   "source": [
    "def smallest_number(l):\n",
    "    if len(l) == 0:\n",
    "        return None\n",
    "    smallest = l[0]\n",
    "    for i in l:\n",
    "        if i<smallest:\n",
    "            smallest = i\n",
    "    return smallest\n",
    "list = [5,4,3,6,7]\n",
    "result = smallest_number(list)\n",
    "print(result)"
   ]
  },
  {
   "cell_type": "markdown",
   "id": "ecc71ae8",
   "metadata": {},
   "source": [
    "4. Write a Python program to find largest number in a list?"
   ]
  },
  {
   "cell_type": "code",
   "execution_count": 17,
   "id": "d04a5e2c",
   "metadata": {},
   "outputs": [
    {
     "name": "stdout",
     "output_type": "stream",
     "text": [
      "8\n"
     ]
    }
   ],
   "source": [
    "def find_largest_number(l):\n",
    "    if len(l) == 0:\n",
    "        return None\n",
    "    largest = l[0]\n",
    "    for i in l:\n",
    "        if i > largest:\n",
    "            largest = i\n",
    "    return largest\n",
    "l= [2,3,4,5,8]\n",
    "result = find_largest_number(l)\n",
    "print(result)"
   ]
  },
  {
   "cell_type": "markdown",
   "id": "635cc117",
   "metadata": {},
   "source": [
    "5. Write a Python program to find second largest number in a list?"
   ]
  },
  {
   "cell_type": "code",
   "execution_count": 18,
   "id": "19c8c7b7",
   "metadata": {},
   "outputs": [
    {
     "name": "stdout",
     "output_type": "stream",
     "text": [
      "Second largest number: 8\n"
     ]
    }
   ],
   "source": [
    "def find_second_largest(lst):\n",
    "    if len(lst) < 2:\n",
    "        return None\n",
    "\n",
    "    largest = float('-inf')  # Initialize the largest number as negative infinity\n",
    "    second_largest = float('-inf')  # Initialize the second largest number as negative infinity\n",
    "\n",
    "    for num in lst:\n",
    "        if num > largest:\n",
    "            second_largest = largest  # Update the second largest number\n",
    "            largest = num  # Update the largest number\n",
    "        elif num > second_largest and num != largest:\n",
    "            second_largest = num  # Update the second largest number if a new second largest is found\n",
    "\n",
    "    if second_largest == float('-inf'):\n",
    "        return None  # If no second largest number is found, return None\n",
    "\n",
    "    return second_largest\n",
    "\n",
    "# Example usage\n",
    "my_list = [5, 2, 8, 1, 9]\n",
    "result = find_second_largest(my_list)\n",
    "print(\"Second largest number:\", result)\n"
   ]
  },
  {
   "cell_type": "markdown",
   "id": "9e15d2ba",
   "metadata": {},
   "source": [
    "6. Write a Python program to find N largest elements from a list?"
   ]
  },
  {
   "cell_type": "code",
   "execution_count": 20,
   "id": "566c2944",
   "metadata": {},
   "outputs": [
    {
     "name": "stdout",
     "output_type": "stream",
     "text": [
      "enter the No of elements in a list: 4\n",
      "enter a element: 5\n",
      "enter a element: 6\n",
      "enter a element: 9\n",
      "enter a element: 7\n",
      "the 4 largest element in [5, 6, 9, 7] is [9, 7, 6, 5]\n"
     ]
    }
   ],
   "source": [
    "def n_largest_elements(l):\n",
    "    element = int(input(\"enter the No of elements in a list: \"))\n",
    "    list = []\n",
    "    for i in range (element):\n",
    "        list.append(int(input(\"enter a element: \")))\n",
    "    print(f'the {l} largest element in {list} is {sorted(list,reverse=True)[0:l]}')\n",
    "    \n",
    "n_largest_elements(4)"
   ]
  },
  {
   "cell_type": "markdown",
   "id": "04820ac7",
   "metadata": {},
   "source": [
    "7. Write a Python program to print even numbers in a list?"
   ]
  },
  {
   "cell_type": "code",
   "execution_count": 1,
   "id": "11e0697b",
   "metadata": {},
   "outputs": [
    {
     "name": "stdout",
     "output_type": "stream",
     "text": [
      "number of elements in the list: 6\n",
      "enter the elements: 2\n",
      "enter the elements: 4\n",
      "enter the elements: 5\n",
      "enter the elements: 3\n",
      "enter the elements: 7\n",
      "enter the elements: 9\n",
      "The Even Elements in [2, 4, 5, 3, 7, 9] are [2, 4]\n"
     ]
    }
   ],
   "source": [
    "def even_number_list():\n",
    "    l = int(input(\"number of elements in the list: \"))\n",
    "    list = []\n",
    "    even_list = []\n",
    "    for i in range (l):\n",
    "        list.append(int(input(\"enter the elements: \")))\n",
    "    for i in list:\n",
    "        if i%2 == 0:\n",
    "            even_list.append(i)\n",
    "    print(f'The Even Elements in {list} are {even_list}')\n",
    "    \n",
    "even_number_list()\n",
    "    \n",
    "            \n",
    "        \n",
    "       \n",
    "    \n",
    "   \n",
    "    \n"
   ]
  },
  {
   "cell_type": "markdown",
   "id": "c9efccc3",
   "metadata": {},
   "source": [
    "8. Write a Python program to print odd numbers in a List?"
   ]
  },
  {
   "cell_type": "code",
   "execution_count": 2,
   "id": "1bf54267",
   "metadata": {},
   "outputs": [
    {
     "name": "stdout",
     "output_type": "stream",
     "text": [
      "enter the no of elements: 4\n",
      "enter the elements: 2\n",
      "enter the elements: 3\n",
      "enter the elements: 7\n",
      "enter the elements: 9\n",
      "odd number in the [2, 3, 7, 9] are [3, 7, 9]\n"
     ]
    }
   ],
   "source": [
    "def odd_number_list():\n",
    "    l = int(input(\"enter the no of elements: \"))\n",
    "    list = []\n",
    "    odd_list = []\n",
    "    for i in range (l):\n",
    "        list.append(int(input(\"enter the elements: \")))\n",
    "    for i in list:\n",
    "        if i%2 != 0:\n",
    "            odd_list.append(i)\n",
    "    print(f'odd number in the {list} are {odd_list}')\n",
    "odd_number_list()"
   ]
  },
  {
   "cell_type": "markdown",
   "id": "4ca4f8be",
   "metadata": {},
   "source": [
    "9. Write a Python program to Remove empty List from List?"
   ]
  },
  {
   "cell_type": "code",
   "execution_count": 7,
   "id": "effabe6e",
   "metadata": {},
   "outputs": [
    {
     "name": "stdout",
     "output_type": "stream",
     "text": [
      "Enter all elements of the list: 6,8,9,7\n",
      "There is no [] List in the list (6, 8, 9, 7)\n"
     ]
    }
   ],
   "source": [
    "def checkEmptyList():\n",
    "    in_list = eval(input('Enter all elements of the list: '))\n",
    "    if [] in in_list:\n",
    "        print(f'There is an Empty list in {in_list} at Position {in_list.index([])}')\n",
    "        in_list.remove([])\n",
    "        print(f'The List after removing [] is {in_list}')\n",
    "    else:\n",
    "        print(f'There is no [] List in the list {in_list}')\n",
    "        \n",
    "checkEmptyList()"
   ]
  },
  {
   "cell_type": "markdown",
   "id": "feedab18",
   "metadata": {},
   "source": [
    "10. Write a Python program to Cloning or Copying a list?"
   ]
  },
  {
   "cell_type": "code",
   "execution_count": 8,
   "id": "9c8d6145",
   "metadata": {},
   "outputs": [
    {
     "name": "stdout",
     "output_type": "stream",
     "text": [
      "Enter a list[2,4,6,8]\n",
      "[2, 4, 6, 8] 2523079445056\n",
      "[2, 4, 6, 8] 2523071926656\n"
     ]
    }
   ],
   "source": [
    "import copy\n",
    "\n",
    "def cloneList():\n",
    "    in_list = eval(input('Enter a list'))\n",
    "    print(in_list, id(in_list))\n",
    "    cloned_list = in_list.copy()\n",
    "    print(cloned_list, id(cloned_list))\n",
    "\n",
    "cloneList()"
   ]
  },
  {
   "cell_type": "markdown",
   "id": "6de8787f",
   "metadata": {},
   "source": [
    "11. Write a Python program to Count occurrences of an element in a list?\n"
   ]
  },
  {
   "cell_type": "code",
   "execution_count": 13,
   "id": "32d66e13",
   "metadata": {},
   "outputs": [
    {
     "name": "stdout",
     "output_type": "stream",
     "text": [
      "Enter the elements of the list: 2,2,4,5,6,8\n",
      "Enter the element to find: 2\n",
      "There are 2 occurences of 2 in (2, 2, 4, 5, 6, 8)\n"
     ]
    }
   ],
   "source": [
    "def checkOccurence():\n",
    "    in_list = eval(input('Enter the elements of the list: '))\n",
    "    in_num = eval(input('Enter the element to find: '))\n",
    "    count = 0\n",
    "    if in_num in in_list:\n",
    "        for ele in in_list:\n",
    "            if ele == in_num:\n",
    "                count = count+1\n",
    "    print(f'There are {count} occurences of {in_num} in {in_list}')\n",
    "    \n",
    "checkOccurence()"
   ]
  },
  {
   "cell_type": "code",
   "execution_count": null,
   "id": "6df6c9dc",
   "metadata": {},
   "outputs": [],
   "source": []
  }
 ],
 "metadata": {
  "kernelspec": {
   "display_name": "Python 3 (ipykernel)",
   "language": "python",
   "name": "python3"
  },
  "language_info": {
   "codemirror_mode": {
    "name": "ipython",
    "version": 3
   },
   "file_extension": ".py",
   "mimetype": "text/x-python",
   "name": "python",
   "nbconvert_exporter": "python",
   "pygments_lexer": "ipython3",
   "version": "3.10.9"
  }
 },
 "nbformat": 4,
 "nbformat_minor": 5
}
