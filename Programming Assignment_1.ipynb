{
 "cells": [
  {
   "cell_type": "markdown",
   "id": "8dc1b5e0",
   "metadata": {},
   "source": [
    "# 1. Write a Python program to print &quot;Hello Python&quot;?"
   ]
  },
  {
   "cell_type": "code",
   "execution_count": 1,
   "id": "932a8a42",
   "metadata": {},
   "outputs": [
    {
     "name": "stdout",
     "output_type": "stream",
     "text": [
      "Hello Python\n"
     ]
    }
   ],
   "source": [
    "print('Hello Python')"
   ]
  },
  {
   "cell_type": "markdown",
   "id": "12bbff02",
   "metadata": {},
   "source": [
    "# 2. Write a Python program to do arithmetical operations addition and division.?"
   ]
  },
  {
   "cell_type": "code",
   "execution_count": 3,
   "id": "078cdb78",
   "metadata": {},
   "outputs": [
    {
     "name": "stdout",
     "output_type": "stream",
     "text": [
      "2\n",
      "12\n"
     ]
    }
   ],
   "source": [
    "a = 8\n",
    "b = 4\n",
    "print(a//b)\n",
    "print(a+b)"
   ]
  },
  {
   "cell_type": "markdown",
   "id": "9ca1613d",
   "metadata": {},
   "source": [
    "# 3. Write a Python program to find the area of a triangle?"
   ]
  },
  {
   "cell_type": "code",
   "execution_count": 7,
   "id": "eaa39a35",
   "metadata": {},
   "outputs": [
    {
     "name": "stdout",
     "output_type": "stream",
     "text": [
      "enter base of triangle: 25\n",
      "enter height of triangle: 45\n"
     ]
    }
   ],
   "source": [
    "b = int(input('enter base of triangle: '))\n",
    "h = int(input('enter height of triangle: '))\n",
    "def triangle_area():\n",
    "    print(0.5*b*h)\n",
    "    "
   ]
  },
  {
   "cell_type": "code",
   "execution_count": 8,
   "id": "d8fc98ab",
   "metadata": {},
   "outputs": [
    {
     "name": "stdout",
     "output_type": "stream",
     "text": [
      "562.5\n"
     ]
    }
   ],
   "source": [
    "triangle_area()"
   ]
  },
  {
   "cell_type": "markdown",
   "id": "2c7a2a44",
   "metadata": {},
   "source": [
    "# 4. Write a Python program to swap two variables?"
   ]
  },
  {
   "cell_type": "code",
   "execution_count": 15,
   "id": "59846e4d",
   "metadata": {},
   "outputs": [
    {
     "name": "stdout",
     "output_type": "stream",
     "text": [
      "enter the first number: 10\n",
      "enter the second number: 20\n",
      "before swapping : 10 20\n",
      "after swappping : 20 10\n"
     ]
    }
   ],
   "source": [
    "num1 = int(input('enter the first number: '))\n",
    "num2 = int(input('enter the second number: '))\n",
    "def swap_number(a,b):\n",
    "    temp = a\n",
    "    a = b\n",
    "    b = temp\n",
    "    return a,b\n",
    "print('before swapping :',num1,num2)\n",
    "num1,num2 = swap_number(num1,num2)\n",
    "print('after swappping :',num1,num2)"
   ]
  },
  {
   "cell_type": "markdown",
   "id": "72f0ecea",
   "metadata": {},
   "source": [
    "# 5.Write a Python program to generate a random number ?"
   ]
  },
  {
   "cell_type": "code",
   "execution_count": 19,
   "id": "165250b6",
   "metadata": {},
   "outputs": [
    {
     "name": "stdout",
     "output_type": "stream",
     "text": [
      "random_number:  36\n"
     ]
    }
   ],
   "source": [
    "import random\n",
    "random_number = random.randint(1,100)\n",
    "print(\"random_number: \",random_number)"
   ]
  },
  {
   "cell_type": "code",
   "execution_count": null,
   "id": "929630a4",
   "metadata": {},
   "outputs": [],
   "source": []
  }
 ],
 "metadata": {
  "kernelspec": {
   "display_name": "Python 3 (ipykernel)",
   "language": "python",
   "name": "python3"
  },
  "language_info": {
   "codemirror_mode": {
    "name": "ipython",
    "version": 3
   },
   "file_extension": ".py",
   "mimetype": "text/x-python",
   "name": "python",
   "nbconvert_exporter": "python",
   "pygments_lexer": "ipython3",
   "version": "3.10.9"
  }
 },
 "nbformat": 4,
 "nbformat_minor": 5
}
