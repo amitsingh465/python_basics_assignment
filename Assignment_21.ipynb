{
 "cells": [
  {
   "cell_type": "markdown",
   "id": "f78f9f81",
   "metadata": {},
   "source": [
    "1. Add the current date to the text file today.txt as a string."
   ]
  },
  {
   "cell_type": "code",
   "execution_count": 1,
   "id": "81183310",
   "metadata": {},
   "outputs": [],
   "source": [
    "from datetime import date\n",
    "\n",
    "current_date = date.today().strftime(\"%Y-%m-%d\")  # Get the current date and format it as a string\n",
    "\n",
    "with open(\"today.txt\", \"a\") as file:\n",
    "    file.write(current_date + \"\\n\")  # Append the current date string to the file, with a newline character\n"
   ]
  },
  {
   "cell_type": "markdown",
   "id": "2c741fb7",
   "metadata": {},
   "source": [
    "This code imports the date class from the datetime module and uses it to get the current date. The strftime method is then used to format the date as a string in the desired format (e.g., \"YYYY-MM-DD\").\n",
    "\n",
    "The with statement is used to open the file \"today.txt\" in append mode, ensuring that the file is properly closed after writing. The write method is used to write the current date string to the file, and a newline character (\"\\n\") is appended to separate each date entry on a new line."
   ]
  },
  {
   "cell_type": "markdown",
   "id": "33b7ae5f",
   "metadata": {},
   "source": [
    "Read the text file today.txt into the string today_string"
   ]
  },
  {
   "cell_type": "code",
   "execution_count": 2,
   "id": "7b274577",
   "metadata": {},
   "outputs": [],
   "source": [
    "with open(\"today.txt\", \"r\") as file:\n",
    "    today_string = file.read()\n"
   ]
  },
  {
   "cell_type": "markdown",
   "id": "6565ef44",
   "metadata": {},
   "source": [
    "3. Parse the date from today_string."
   ]
  },
  {
   "cell_type": "code",
   "execution_count": 3,
   "id": "0f590a41",
   "metadata": {},
   "outputs": [],
   "source": [
    "from datetime import datetime\n",
    "\n",
    "date_format = \"%Y-%m-%d\"  # Specify the format of the date in the string\n",
    "parsed_date = datetime.strptime(today_string.strip(), date_format).date()\n"
   ]
  },
  {
   "cell_type": "markdown",
   "id": "33c0e1a3",
   "metadata": {},
   "source": [
    "4. List the files in your current directory"
   ]
  },
  {
   "cell_type": "code",
   "execution_count": 4,
   "id": "b65a6b94",
   "metadata": {},
   "outputs": [
    {
     "name": "stdout",
     "output_type": "stream",
     "text": [
      ".bash_history\n",
      ".conda\n",
      ".condarc\n",
      ".continuum\n",
      ".git\n",
      ".gitconfig\n",
      ".gitconfig.swp\n",
      ".ipynb_checkpoints\n",
      ".ipython\n",
      ".jupyter\n",
      ".matplotlib\n",
      ".ms-ad\n",
      ".spyder-py3\n",
      ".vscode\n",
      ".vscode-R\n",
      "3D Objects\n",
      "AppData\n",
      "Application Data\n",
      "application_log.txt\n",
      "Assignment_1.ipynb\n",
      "assignment_10.ipynb\n",
      "assignment_11.ipynb\n",
      "assignment_12.ipynb\n",
      "assignment_13.ipynb\n",
      "Assignment_14.ipynb\n",
      "Assignment_15.ipynb\n",
      "Assignment_16.ipynb\n",
      "assignment_17.ipynb\n",
      "Assignment_18.ipynb\n",
      "Assignment_19.ipynb\n",
      "Assignment_2.ipynb\n",
      "Assignment_20.ipynb\n",
      "Assignment_21.ipynb\n",
      "Assignment_22.ipynb\n",
      "Assignment_23.ipynb\n",
      "Assignment_24.ipynb\n",
      "Assignment_25.ipynb\n",
      "Assignment_3.ipynb\n",
      "Assignment_5.ipynb\n",
      "Assignment_6.ipynb\n",
      "assignment_8.ipynb\n",
      "assignment_9.ipynb\n",
      "books.csv\n",
      "books.db\n",
      "Contacts\n",
      "Cookies\n",
      "Data_Science_Assignment_python.ipynb\n",
      "Data_science_stats.ipynb\n",
      "Data_Train.xlsx\n",
      "Desktop\n",
      "Documents\n",
      "Downloads\n",
      "DSA_Assignment_4.ipynb\n",
      "Favorites\n",
      "Flight Prediction.ipynb\n",
      "image scraper\n",
      "IntelGraphicsProfiles\n",
      "Jedi\n",
      "Links\n",
      "Local Settings\n",
      "Microsoft\n",
      "movie.csv\n",
      "Music\n",
      "My Documents\n",
      "NetHood\n",
      "NTUSER.DAT\n",
      "ntuser.dat.LOG1\n",
      "ntuser.dat.LOG2\n",
      "NTUSER.DAT{53b39e88-18c4-11ea-a811-000d3aa4692b}.TM.blf\n",
      "NTUSER.DAT{53b39e88-18c4-11ea-a811-000d3aa4692b}.TMContainer00000000000000000001.regtrans-ms\n",
      "NTUSER.DAT{53b39e88-18c4-11ea-a811-000d3aa4692b}.TMContainer00000000000000000002.regtrans-ms\n",
      "ntuser.ini\n",
      "OneDrive\n",
      "Pictures\n",
      "pokemon.xlsx\n",
      "Postman\n",
      "PrintHood\n",
      "python_basics_1.ipynb\n",
      "python_basics_2.ipynb\n",
      "python_basics_3.ipynb\n",
      "python_basics_4.ipynb\n",
      "python_basics_5.ipynb\n",
      "python_basics_6.ipynb\n",
      "python_basics_7.ipynb\n",
      "Recent\n",
      "Saved Games\n",
      "Searches\n",
      "SendTo\n",
      "space.csv\n",
      "Start Menu\n",
      "Templates\n",
      "test.txt\n",
      "time_series.ipynb\n",
      "today.txt\n",
      "university_records.csv\n",
      "untitled\n",
      "Untitled.ipynb\n",
      "venv\n",
      "Videos\n",
      "Zomato dataset.ipynb\n",
      "zomato.csv\n"
     ]
    }
   ],
   "source": [
    "import os\n",
    "\n",
    "current_directory = os.getcwd()  # Get the current directory path\n",
    "file_list = os.listdir(current_directory)  # Get a list of files in the current directory\n",
    "\n",
    "for file_name in file_list:\n",
    "    print(file_name)\n"
   ]
  },
  {
   "cell_type": "markdown",
   "id": "3b243da1",
   "metadata": {},
   "source": [
    "5. Create a list of all of the files in your parent directory (minimum five files should be available)."
   ]
  },
  {
   "cell_type": "code",
   "execution_count": 5,
   "id": "6011959f",
   "metadata": {},
   "outputs": [
    {
     "name": "stdout",
     "output_type": "stream",
     "text": [
      "['desktop.ini']\n"
     ]
    }
   ],
   "source": [
    "import os\n",
    "\n",
    "parent_directory = os.path.abspath(os.path.join(os.getcwd(), os.pardir))  # Get the absolute path of the parent directory\n",
    "file_list = os.listdir(parent_directory)  # Get a list of files in the parent directory\n",
    "\n",
    "files = []\n",
    "\n",
    "for file_name in file_list:\n",
    "    file_path = os.path.join(parent_directory, file_name)  # Get the absolute path of each file\n",
    "    if os.path.isfile(file_path):\n",
    "        files.append(file_name)\n",
    "\n",
    "print(files)\n"
   ]
  },
  {
   "cell_type": "markdown",
   "id": "e6511e5f",
   "metadata": {},
   "source": [
    "In this code, we import the os module to interact with the operating system. The os.getcwd() function is used to get the current working directory path. The os.path.abspath() and os.path.join() functions are then used to obtain the absolute path of the parent directory.\n",
    "\n",
    "The os.listdir() function retrieves a list of file names within the parent directory. We iterate over the file_list using a for loop and check if each item is a file using os.path.isfile(). If it is a file, we append the file name to the files list.\n",
    "\n",
    "Finally, we print the files list, which contains the names of the files in the parent directory.\n",
    "\n",
    "Make sure to have the appropriate permissions to access the parent directory and ensure that it contains at least five files for the code to work correctly.\n"
   ]
  },
  {
   "cell_type": "markdown",
   "id": "45b73dd1",
   "metadata": {},
   "source": [
    "6. Use multiprocessing to create three separate processes. Make each one wait a random number of\n",
    "seconds between one and five, print the current time, and then exit."
   ]
  },
  {
   "cell_type": "code",
   "execution_count": 6,
   "id": "f69887b2",
   "metadata": {},
   "outputs": [],
   "source": [
    "import multiprocessing\n",
    "import time\n",
    "import random\n",
    "from datetime import datetime\n",
    "\n",
    "def process_function():\n",
    "    wait_time = random.randint(1, 5)\n",
    "    time.sleep(wait_time)\n",
    "    current_time = datetime.now().strftime(\"%Y-%m-%d %H:%M:%S\")\n",
    "    print(f\"Process {multiprocessing.current_process().name} - Current time: {current_time}\")\n",
    "\n",
    "if __name__ == \"__main__\":\n",
    "    processes = []\n",
    "\n",
    "    for i in range(3):\n",
    "        process = multiprocessing.Process(target=process_function)\n",
    "        processes.append(process)\n",
    "        process.start()\n",
    "\n",
    "    for process in processes:\n",
    "        process.join()\n"
   ]
  },
  {
   "cell_type": "markdown",
   "id": "eb88febc",
   "metadata": {},
   "source": [
    "7. Create a date object of your day of birth."
   ]
  },
  {
   "cell_type": "code",
   "execution_count": 7,
   "id": "8a7533b6",
   "metadata": {},
   "outputs": [
    {
     "name": "stdout",
     "output_type": "stream",
     "text": [
      "1996-02-27\n"
     ]
    }
   ],
   "source": [
    "from datetime import date\n",
    "\n",
    "birth_date = date(1996, 2, 27)  # Replace with your actual date of birth\n",
    "\n",
    "print(birth_date)\n"
   ]
  },
  {
   "cell_type": "markdown",
   "id": "9bb75843",
   "metadata": {},
   "source": [
    "8. What day of the week was your day of birth?"
   ]
  },
  {
   "cell_type": "code",
   "execution_count": 9,
   "id": "9edd78be",
   "metadata": {},
   "outputs": [
    {
     "name": "stdout",
     "output_type": "stream",
     "text": [
      "Tuesday\n"
     ]
    }
   ],
   "source": [
    "from datetime import date\n",
    "\n",
    "birth_date = date(1996, 2, 27)  # Replace with your actual date of birth\n",
    "\n",
    "day_of_week = birth_date.strftime(\"%A\")\n",
    "\n",
    "print(day_of_week)\n"
   ]
  },
  {
   "cell_type": "markdown",
   "id": "77dbaf18",
   "metadata": {},
   "source": [
    "9. When will you be (or when were you) 10,000 days old?"
   ]
  },
  {
   "cell_type": "code",
   "execution_count": 10,
   "id": "89d7fce5",
   "metadata": {},
   "outputs": [
    {
     "name": "stdout",
     "output_type": "stream",
     "text": [
      "2023-07-15\n"
     ]
    }
   ],
   "source": [
    "from datetime import date, timedelta\n",
    "\n",
    "birth_date = date(1996, 2, 27)  # Replace with your actual date of birth\n",
    "\n",
    "target_date = birth_date + timedelta(days=10000)\n",
    "\n",
    "print(target_date)\n"
   ]
  },
  {
   "cell_type": "code",
   "execution_count": null,
   "id": "3dcd5160",
   "metadata": {},
   "outputs": [],
   "source": []
  }
 ],
 "metadata": {
  "kernelspec": {
   "display_name": "Python 3 (ipykernel)",
   "language": "python",
   "name": "python3"
  },
  "language_info": {
   "codemirror_mode": {
    "name": "ipython",
    "version": 3
   },
   "file_extension": ".py",
   "mimetype": "text/x-python",
   "name": "python",
   "nbconvert_exporter": "python",
   "pygments_lexer": "ipython3",
   "version": "3.10.9"
  }
 },
 "nbformat": 4,
 "nbformat_minor": 5
}
