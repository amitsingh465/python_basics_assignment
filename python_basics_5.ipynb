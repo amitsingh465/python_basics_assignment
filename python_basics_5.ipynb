{
 "cells": [
  {
   "cell_type": "markdown",
   "id": "1e722746",
   "metadata": {},
   "source": [
    "# 1. What does an empty dictionary&#39;s code look like?"
   ]
  },
  {
   "cell_type": "markdown",
   "id": "c9b1f6de",
   "metadata": {},
   "source": [
    "<b>Ans: </b>An empty dictionary is often represented by two empty curly brackets\n",
    "d = {} or d = dict()"
   ]
  },
  {
   "cell_type": "markdown",
   "id": "6dc24dce",
   "metadata": {},
   "source": [
    "# 2. What is the value of a dictionary value with the key &#39;foo&#39; and the value 42?"
   ]
  },
  {
   "cell_type": "markdown",
   "id": "78907210",
   "metadata": {},
   "source": [
    "{foo:42}"
   ]
  },
  {
   "cell_type": "markdown",
   "id": "f5b63362",
   "metadata": {},
   "source": [
    "# 3. What is the most significant distinction between a dictionary and a list?"
   ]
  },
  {
   "cell_type": "markdown",
   "id": "ced18835",
   "metadata": {},
   "source": [
    "<b>Ans: </b>Dictionaries are represented by {} where as listed are represented by []\n",
    "The Items stored in a dictionary are Unordered , while the items in a list are ordered"
   ]
  },
  {
   "cell_type": "markdown",
   "id": "b32c4ab7",
   "metadata": {},
   "source": [
    "# 4. What happens if you try to access spam[&#39;foo&#39;] if spam is {&#39;bar&#39;: 100}?\n"
   ]
  },
  {
   "cell_type": "markdown",
   "id": "6b7fd256",
   "metadata": {},
   "source": [
    "<b>Ans:</b> we will get a keyError KeyError: 'foo'"
   ]
  },
  {
   "cell_type": "markdown",
   "id": "2f23fd97",
   "metadata": {},
   "source": [
    "# 5. If a dictionary is stored in spam, what is the difference between the expressions &#39;cat&#39; in spam and &#39;cat&#39; in spam.keys()?"
   ]
  },
  {
   "cell_type": "markdown",
   "id": "4155f84d",
   "metadata": {},
   "source": [
    "<b>Ans: </b>There is no difference . The operator checks whether a value exits as a key in the dictionary or not ."
   ]
  },
  {
   "cell_type": "markdown",
   "id": "99303b42",
   "metadata": {},
   "source": [
    "# 6. If a dictionary is stored in spam, what is the difference between the expressions &#39;cat&#39; in spam and &#39;cat&#39; in spam.values()?"
   ]
  },
  {
   "cell_type": "markdown",
   "id": "6b8043bd",
   "metadata": {},
   "source": [
    "<b>Ans:</b>'cat' in spam checks whether there is a 'cat' key in the dictionary, while 'cat' in spam.values() checks whether there is a value 'cat' for one of the keys in spam."
   ]
  },
  {
   "cell_type": "markdown",
   "id": "250b66ae",
   "metadata": {},
   "source": [
    "# 7. What is a shortcut for the following code?\n",
    "## if &#39;color&#39; not in spam: \n",
    "## spam[&#39;color&#39;] = &#39;black&#39;"
   ]
  },
  {
   "cell_type": "markdown",
   "id": "318d73ca",
   "metadata": {},
   "source": [
    "<b>Ans: </b> spam.setdefault('color','black')"
   ]
  },
  {
   "cell_type": "markdown",
   "id": "96961b24",
   "metadata": {},
   "source": [
    "# 8. How do you &quot;pretty print&quot; dictionary values using which module and function?"
   ]
  },
  {
   "cell_type": "markdown",
   "id": "c6846c18",
   "metadata": {},
   "source": [
    "<b>Ans: </b>we can pretty print a dictionary using three functions\n",
    "\n",
    "1 - by using pprint() function of pprint module <br>\n",
    "   * Note: pprint() function doesnot prettify nested dictionaries <br>\n",
    "   \n",
    "2 - by using dumps() method of json module  <br>\n",
    "3 - by using dumps() method of yaml module  <br>"
   ]
  },
  {
   "cell_type": "code",
   "execution_count": 5,
   "id": "a509644f",
   "metadata": {},
   "outputs": [
    {
     "name": "stdout",
     "output_type": "stream",
     "text": [
      "{'amit': 'kumar', 'kundan': 'sharma', 'manvi': 'garg'}\n"
     ]
    }
   ],
   "source": [
    "import pprint\n",
    "dict = {'amit':'kumar','manvi':'garg','kundan':'sharma'}\n",
    "pprint.pprint(dict)"
   ]
  },
  {
   "cell_type": "code",
   "execution_count": null,
   "id": "6c1c1778",
   "metadata": {},
   "outputs": [],
   "source": []
  }
 ],
 "metadata": {
  "kernelspec": {
   "display_name": "Python 3 (ipykernel)",
   "language": "python",
   "name": "python3"
  },
  "language_info": {
   "codemirror_mode": {
    "name": "ipython",
    "version": 3
   },
   "file_extension": ".py",
   "mimetype": "text/x-python",
   "name": "python",
   "nbconvert_exporter": "python",
   "pygments_lexer": "ipython3",
   "version": "3.10.9"
  }
 },
 "nbformat": 4,
 "nbformat_minor": 5
}
