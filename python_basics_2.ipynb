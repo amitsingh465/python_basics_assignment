{
 "cells": [
  {
   "cell_type": "markdown",
   "id": "4d6c2c29",
   "metadata": {},
   "source": [
    "1.What are the two values of the Boolean data type? How do you write them?"
   ]
  },
  {
   "cell_type": "markdown",
   "id": "9d1b6cc5",
   "metadata": {},
   "source": [
    " True and False are two values of the boolen data types. We have to use capital T and F and with the rest of the word in lowercase."
   ]
  },
  {
   "cell_type": "code",
   "execution_count": 1,
   "id": "66585b43",
   "metadata": {},
   "outputs": [
    {
     "name": "stdout",
     "output_type": "stream",
     "text": [
      "True <class 'bool'>\n",
      "False <class 'bool'>\n"
     ]
    }
   ],
   "source": [
    "a = True\n",
    "b = False\n",
    "print(a,type(a))\n",
    "print(b,type(b))"
   ]
  },
  {
   "cell_type": "markdown",
   "id": "4ca34816",
   "metadata": {},
   "source": [
    "2. What are the three different types of Boolean operators?"
   ]
  },
  {
   "cell_type": "markdown",
   "id": "d044764a",
   "metadata": {},
   "source": [
    "The three differnt types of Boolean operators in python are: and , or , not"
   ]
  },
  {
   "cell_type": "markdown",
   "id": "41db084c",
   "metadata": {},
   "source": [
    "3. Make a list of each Boolean operator's truth tables (i.e. every possible combination of Boolean\n",
    "values for the operator and what it evaluate )."
   ]
  },
  {
   "cell_type": "markdown",
   "id": "8cbd2026",
   "metadata": {},
   "source": [
    "The Truth tables for the boolean tables are as follows:\n",
    "\n",
    "- <b>Truth Table for and operator : </b>\n",
    "\n",
    "    True and True is True <br>\n",
    "    True and False is False<br>\n",
    "    False and True is False<br>\n",
    "    False and False is False<br>\n",
    "    \n",
    "\n",
    "* <b>Truth Table for or operator  </b>:\n",
    "\n",
    "    True and True is True<br>\n",
    "    True and False is True<br>\n",
    "    False and True is True<br>\n",
    "    False and False is False<br>\n",
    "    \n",
    "\n",
    "* <b>Truth Table for not operator : </b>\n",
    "\n",
    "    True not is False False not is True"
   ]
  },
  {
   "cell_type": "markdown",
   "id": "87ace6a8",
   "metadata": {},
   "source": [
    "# 4. What are the values of the following expressions ?\n",
    "\n",
    "* (5 > 4) and (3 == 5) <br>\n",
    "* not (5 > 4) <br>\n",
    "* (5 > 4) or (3 == 5) <br>\n",
    "* not ((5 > 4) or (3 == 5)) <br>\n",
    "* (True and True) and (True == False) <br>\n",
    "* (not False) or (not True) <br>"
   ]
  },
  {
   "cell_type": "code",
   "execution_count": 2,
   "id": "0cbf0897",
   "metadata": {},
   "outputs": [
    {
     "name": "stdout",
     "output_type": "stream",
     "text": [
      "False\n",
      "False\n",
      "True\n",
      "False\n",
      "False\n",
      "True\n"
     ]
    }
   ],
   "source": [
    "print((5>4 and (3==5)))\n",
    "print(not(5>4))\n",
    "print((5>4 or (3==5)))\n",
    "print((not(5>4) or (3==5)))\n",
    "print(((True and True) and (True == False)))\n",
    "print(((not False) or (not True)))"
   ]
  },
  {
   "cell_type": "markdown",
   "id": "82c672f0",
   "metadata": {},
   "source": [
    "# 5. What are the six comparison operators?"
   ]
  },
  {
   "cell_type": "markdown",
   "id": "d0f79c09",
   "metadata": {},
   "source": [
    " The Six comparision operators available in python are: <br>\n",
    "<b>== , != , < , > , <= , => </b>"
   ]
  },
  {
   "cell_type": "markdown",
   "id": "ef0a99c8",
   "metadata": {},
   "source": [
    "# 6. How do you tell the difference between the equal to and assignment operators?Describe a condition and when you would use one."
   ]
  },
  {
   "cell_type": "markdown",
   "id": "20230e2b",
   "metadata": {},
   "source": [
    " == is the equal to operator that compares two values and evaluates to a Boolean.\n",
    "<br> while = is that assignment operator that stores a value in a variable"
   ]
  },
  {
   "cell_type": "code",
   "execution_count": 3,
   "id": "db73294a",
   "metadata": {},
   "outputs": [
    {
     "name": "stdout",
     "output_type": "stream",
     "text": [
      "True\n"
     ]
    }
   ],
   "source": [
    "a=6# Assigning operator that stores the value in a variable a\n",
    "\n",
    "if a==6:#comparing values of a varible value and 3\n",
    "    print(a==6) "
   ]
  },
  {
   "cell_type": "markdown",
   "id": "18d45af3",
   "metadata": {},
   "source": [
    "# 7. Identify the three blocks in this code:\n",
    "spam = 0 <br>\n",
    "if spam == 10: <br>\n",
    "print('eggs') <br>\n",
    "if spam > 5: <br>\n",
    "print('bacon') <br>\n",
    "else: <br>\n",
    "print('ham') <br>\n",
    "print('spam') <br>\n",
    "print('spam') <br>"
   ]
  },
  {
   "cell_type": "markdown",
   "id": "8e41840b",
   "metadata": {},
   "source": [
    " In Python, code block refers to a collection of code that is in the same block or indent. This is most commonly found in classes, functions, and loops.\n",
    "\n"
   ]
  },
  {
   "cell_type": "code",
   "execution_count": 4,
   "id": "19834f01",
   "metadata": {},
   "outputs": [
    {
     "name": "stdout",
     "output_type": "stream",
     "text": [
      "ham\n",
      "spam\n",
      "spam\n"
     ]
    }
   ],
   "source": [
    "spam = 0  \n",
    "if spam == 10:  \n",
    "    print('eggs')  # block #1\n",
    "if spam > 5:  \n",
    "    print('bacon')  # block #2\n",
    "else:  \n",
    "    print('ham')  # block #3\n",
    "print('spam')  \n",
    "print('spam')"
   ]
  },
  {
   "cell_type": "markdown",
   "id": "61bdb01b",
   "metadata": {},
   "source": [
    "# 8. Write code that prints Hello if 1 is stored in spam, prints Howdy if 2 is stored in spam, and prints Greetings! if anything else is stored in spam."
   ]
  },
  {
   "cell_type": "code",
   "execution_count": 7,
   "id": "80995452",
   "metadata": {},
   "outputs": [
    {
     "name": "stdout",
     "output_type": "stream",
     "text": [
      "Greetings\n"
     ]
    }
   ],
   "source": [
    "spam = 3\n",
    "if spam == 1:\n",
    "    print('Hello')\n",
    "elif spam == 2:\n",
    "    print('Howdy')\n",
    "else:\n",
    "    print('Greetings')"
   ]
  },
  {
   "cell_type": "markdown",
   "id": "a23dcfbf",
   "metadata": {},
   "source": [
    "# 9.If your programme is stuck in an endless loop, what keys you’ll press?"
   ]
  },
  {
   "cell_type": "markdown",
   "id": "0ff0dfc6",
   "metadata": {},
   "source": [
    "<b>Ans</b>: Press Ctrl-c to stop a program stuck in an infinite loop."
   ]
  },
  {
   "cell_type": "markdown",
   "id": "e66c3272",
   "metadata": {},
   "source": [
    "# 10. How can you tell the difference between break and continue?"
   ]
  },
  {
   "cell_type": "markdown",
   "id": "9d156054",
   "metadata": {},
   "source": [
    "<b>Ans:</b> The break statement will move the execution outside the loop if break condtion is satisfied. Whereas the continue statement will move the execution to the start of the loop."
   ]
  },
  {
   "cell_type": "markdown",
   "id": "9e4c77b1",
   "metadata": {},
   "source": [
    "# 11. In a for loop, what is the difference between range(10), range(0, 10), and range(0, 10, 1)?"
   ]
  },
  {
   "cell_type": "markdown",
   "id": "a325ee95",
   "metadata": {},
   "source": [
    "<b>Ans:</b> The Differences are as follows:\n",
    "\n",
    "The <b>range(10)</b> call range from 0 to 9 (but not include 10). <br>\n",
    "The <b>range (0,10)</b> explicitly tells the loop to start at 0.   <br>\n",
    "The <b>range(0,10,1)</b> explicitly tells the loop to increase the variable by 1 on each iteration."
   ]
  },
  {
   "cell_type": "markdown",
   "id": "3598442a",
   "metadata": {},
   "source": [
    "# 12. Write a short program that prints the numbers 1 to 10 using a for loop. Then write an equivalent program that prints the numbers 1 to 10 using a while loop."
   ]
  },
  {
   "cell_type": "code",
   "execution_count": 8,
   "id": "44a6a746",
   "metadata": {},
   "outputs": [
    {
     "name": "stdout",
     "output_type": "stream",
     "text": [
      "1\n",
      "2\n",
      "3\n",
      "4\n",
      "5\n",
      "6\n",
      "7\n",
      "8\n",
      "9\n",
      "10\n"
     ]
    }
   ],
   "source": [
    "for i in range (1,11):\n",
    "    print(i)"
   ]
  },
  {
   "cell_type": "code",
   "execution_count": null,
   "id": "d3f13aa0",
   "metadata": {},
   "outputs": [],
   "source": [
    "# using while loop print 1 to 10.\n",
    "i=1\n",
    "while i<=10:\n",
    "    print(i, end=\" \")\n",
    "    i+=1"
   ]
  },
  {
   "cell_type": "markdown",
   "id": "44f8b322",
   "metadata": {},
   "source": [
    "# 13. If you had a function named bacon() inside a module named spam, how would you call it after importing spam?"
   ]
  },
  {
   "cell_type": "markdown",
   "id": "4c69f325",
   "metadata": {},
   "source": [
    "the function can be called with spam.bacon()"
   ]
  },
  {
   "cell_type": "code",
   "execution_count": null,
   "id": "6b511eaf",
   "metadata": {},
   "outputs": [],
   "source": []
  }
 ],
 "metadata": {
  "kernelspec": {
   "display_name": "Python 3 (ipykernel)",
   "language": "python",
   "name": "python3"
  },
  "language_info": {
   "codemirror_mode": {
    "name": "ipython",
    "version": 3
   },
   "file_extension": ".py",
   "mimetype": "text/x-python",
   "name": "python",
   "nbconvert_exporter": "python",
   "pygments_lexer": "ipython3",
   "version": "3.10.9"
  }
 },
 "nbformat": 4,
 "nbformat_minor": 5
}
