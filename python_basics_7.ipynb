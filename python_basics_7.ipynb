{
 "cells": [
  {
   "cell_type": "markdown",
   "id": "70537da1",
   "metadata": {},
   "source": [
    "# 1. What is the name of the feature responsible for generating Regex objects?"
   ]
  },
  {
   "cell_type": "markdown",
   "id": "d8305b53",
   "metadata": {},
   "source": [
    "<b>Ans: </b> re.compile() is the feature responsible for generation of Regex objects."
   ]
  },
  {
   "cell_type": "markdown",
   "id": "936ae766",
   "metadata": {},
   "source": [
    "# 2. Why do raw strings often appear in Regex objects?"
   ]
  },
  {
   "cell_type": "markdown",
   "id": "030a1818",
   "metadata": {},
   "source": [
    "<b>Ans: </b>Regular expressions use the backslash character ('\\') to indicate special forms (Metacharacters) or to allow special characters (speical sequences) to be used without invoking their special meaning. This collides with Python’s usage of the same character for the same purpose in string literals. Hence, Raw strings are used (e.g. r\"\\n\") so that backslashes do not have to be escaped."
   ]
  },
  {
   "cell_type": "markdown",
   "id": "ec03a80a",
   "metadata": {},
   "source": [
    "# 3. What is the return value of the search() method?"
   ]
  },
  {
   "cell_type": "markdown",
   "id": "109e8543",
   "metadata": {},
   "source": [
    "<b> Ans: </b>The return value of re.search(pattern,string) method is a match object if the pattern is observed in the string else it returns a None."
   ]
  },
  {
   "cell_type": "markdown",
   "id": "c8f4a6d7",
   "metadata": {},
   "source": [
    "# 4. From a Match item, how do you get the actual strings that match the pattern?"
   ]
  },
  {
   "cell_type": "markdown",
   "id": "5f036f68",
   "metadata": {},
   "source": [
    "<b>Ans: </b> For Matched items group() methods returns actual strings that match the pattern."
   ]
  },
  {
   "cell_type": "markdown",
   "id": "1a985972",
   "metadata": {},
   "source": [
    "# 5. In the regex which created from the r&#39;(\\d\\d\\d)-(\\d\\d\\d-\\d\\d\\d\\d)&#39;, what does group zero cover? Group 2? Group 1?"
   ]
  },
  {
   "cell_type": "markdown",
   "id": "87ff9793",
   "metadata": {},
   "source": [
    "<b>Ans: </b> In the Regex r'(\\d\\d\\d)-(\\d\\d\\d-\\d\\d\\d\\d)' the zero group covers the entire pattern match where as the first group cover (\\d\\d\\d) and the second group cover (\\d\\d\\d-\\d\\d\\d\\d)"
   ]
  },
  {
   "cell_type": "markdown",
   "id": "c14b3fa3",
   "metadata": {},
   "source": [
    "# 6. In standard expression syntax, parentheses and intervals have distinct meanings. How can you tell a regex that you want it to fit real parentheses and periods?"
   ]
  },
  {
   "cell_type": "markdown",
   "id": "e6b3a558",
   "metadata": {},
   "source": [
    "<b>Ans: </b>The \\. \\( and \\) escape characters in the raw string passed to re.compile() will match actual parenthesis characters."
   ]
  },
  {
   "cell_type": "markdown",
   "id": "a378e57d",
   "metadata": {},
   "source": [
    "# 7. The findall() method returns a string list or a list of string tuples. What causes it to return one of the two options?"
   ]
  },
  {
   "cell_type": "markdown",
   "id": "ba5575e9",
   "metadata": {},
   "source": [
    "<b>Ans: </b>If the regex pattern has no groups, a list of strings matched is returned. if the regex pattern has groups, a list of tuple of strings is returned."
   ]
  },
  {
   "cell_type": "markdown",
   "id": "f4a08259",
   "metadata": {},
   "source": [
    "# 8. In standard expressions, what does the | character mean? "
   ]
  },
  {
   "cell_type": "markdown",
   "id": "e69794e2",
   "metadata": {},
   "source": [
    "<b>Ans: </b>In Standard Expressions | means OR operator."
   ]
  },
  {
   "cell_type": "markdown",
   "id": "19a9ec3e",
   "metadata": {},
   "source": [
    "# 9. In regular expressions, what does the character stand for?"
   ]
  },
  {
   "cell_type": "markdown",
   "id": "793c0c29",
   "metadata": {},
   "source": [
    "<b>Ans: </b>In regular Expressions, ? characters represents zero or one match of the preceeding group."
   ]
  },
  {
   "cell_type": "markdown",
   "id": "f9d6530f",
   "metadata": {},
   "source": [
    "# 10.In regular expressions, what is the difference between the + and * characters?"
   ]
  },
  {
   "cell_type": "markdown",
   "id": "53265c85",
   "metadata": {},
   "source": [
    "<b>Ans: </b>In Regular Expressions, * Represents Zero or more occurances of the preceeding group, whereas + represents one or more occurances of the preceeding group."
   ]
  },
  {
   "cell_type": "markdown",
   "id": "41a931eb",
   "metadata": {},
   "source": [
    "# 11. What is the difference between {4} and {4,5} in regular expression?"
   ]
  },
  {
   "cell_type": "markdown",
   "id": "8447c796",
   "metadata": {},
   "source": [
    "<b>Ans: </b>{4} means that its preceeding group should repeat 4 times. where as {4,5} means that its preceeding group should repeat mininum 4 times and maximum 5 times inclusively."
   ]
  },
  {
   "cell_type": "markdown",
   "id": "68b83ac5",
   "metadata": {},
   "source": [
    "# 12. What do you mean by the \\d, \\w, and \\s shorthand character classes signify in regular expressions?"
   ]
  },
  {
   "cell_type": "markdown",
   "id": "7553b159",
   "metadata": {},
   "source": [
    "<b>Ans: </b> \\d, \\w and \\s are special sequences in regular expresssions in python:\n",
    "\n",
    "1 - \\w – Matches a word character equivalent to [a-zA-Z0-9_] <br>\n",
    "2 - \\d – Matches digit character equivalent to [0-9]  <br>\n",
    "3 - \\s – Matches whitespace character (space, tab, newline, etc.)"
   ]
  },
  {
   "cell_type": "markdown",
   "id": "c6ca6c01",
   "metadata": {},
   "source": [
    "# 13. What do means by \\D, \\W, and \\S shorthand character classes signify in regular expressions?"
   ]
  },
  {
   "cell_type": "markdown",
   "id": "35c68838",
   "metadata": {},
   "source": [
    "<b>Ans: <b>\\D, \\W and \\S are special sequences in regular expresssions in python:\n",
    "\n",
    "1 - \\W – Matches any non-alphanumeric character equivalent to [^a-zA-Z0-9_]  <br>\n",
    "2 - \\D – Matches any non-digit character, this is equivalent to the set class [^0-9] <br>\n",
    "3 - \\S – Matches any non-whitespace character."
   ]
  },
  {
   "cell_type": "markdown",
   "id": "7dad1469",
   "metadata": {},
   "source": [
    "# 14. What is the difference between .*? and .*?"
   ]
  },
  {
   "cell_type": "markdown",
   "id": "abd0029c",
   "metadata": {},
   "source": [
    "<b>Ans: </b>.* is a Greedy mode, which returns the longest string that meets the condition. Whereas .*? is a non greedy mode which returns the shortest string that meets the condition."
   ]
  },
  {
   "cell_type": "markdown",
   "id": "f2f1081a",
   "metadata": {},
   "source": [
    "# 15. What is the syntax for matching both numbers and lowercase letters with a character class?"
   ]
  },
  {
   "cell_type": "markdown",
   "id": "1077ade3",
   "metadata": {},
   "source": [
    "<b>Ans: </b> The Synatax is Either [a-z0-9] or [0-9a-z]."
   ]
  },
  {
   "cell_type": "markdown",
   "id": "865cc1aa",
   "metadata": {},
   "source": [
    "# 16. What is the procedure for making a normal expression in regax case insensitive?"
   ]
  },
  {
   "cell_type": "markdown",
   "id": "7e5a018f",
   "metadata": {},
   "source": [
    "<b>Ans: </b>We can pass re.IGNORECASE as a flag to make a noraml expression case insensitive."
   ]
  },
  {
   "cell_type": "markdown",
   "id": "cbde5f0e",
   "metadata": {},
   "source": [
    "# 17. What does the . character normally match? What does it match if re.DOTALL is passed as 2nd argument in re.compile()?"
   ]
  },
  {
   "cell_type": "markdown",
   "id": "a23ba886",
   "metadata": {},
   "source": [
    "<b>Ans: </b>Dot . character matches everything in input except newline character .. By passing re.DOTALL as a flag to re.compile(), you can make the dot character match all characters, including the newline character."
   ]
  },
  {
   "cell_type": "markdown",
   "id": "cd52406e",
   "metadata": {},
   "source": [
    "# 18. If numReg = re.compile(r&#39;\\d+&#39;), what will numRegex.sub(&#39;X&#39;, &#39;11 drummers, 10 pipers, five rings, 4 hen&#39;) return?"
   ]
  },
  {
   "cell_type": "markdown",
   "id": "822b6749",
   "metadata": {},
   "source": [
    "<b>Ans: </b>The Ouput will be 'X drummers, X pipers, five rings, X hen'"
   ]
  },
  {
   "cell_type": "markdown",
   "id": "2dc845fa",
   "metadata": {},
   "source": [
    "# 19. What does passing re.VERBOSE as the 2nd argument to re.compile() allow to do?"
   ]
  },
  {
   "cell_type": "markdown",
   "id": "5a385c22",
   "metadata": {},
   "source": [
    "<b>Ans: </b> re.VERBOSE will allow to add whitespace and comments to string passed to re.compile()."
   ]
  },
  {
   "cell_type": "code",
   "execution_count": null,
   "id": "394486f1",
   "metadata": {},
   "outputs": [],
   "source": []
  }
 ],
 "metadata": {
  "kernelspec": {
   "display_name": "Python 3 (ipykernel)",
   "language": "python",
   "name": "python3"
  },
  "language_info": {
   "codemirror_mode": {
    "name": "ipython",
    "version": 3
   },
   "file_extension": ".py",
   "mimetype": "text/x-python",
   "name": "python",
   "nbconvert_exporter": "python",
   "pygments_lexer": "ipython3",
   "version": "3.10.9"
  }
 },
 "nbformat": 4,
 "nbformat_minor": 5
}
