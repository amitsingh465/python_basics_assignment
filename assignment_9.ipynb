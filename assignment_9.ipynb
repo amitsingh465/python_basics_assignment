{
 "cells": [
  {
   "cell_type": "markdown",
   "id": "8e4c45a8",
   "metadata": {},
   "source": [
    "# 1. To what does a relative path refer?"
   ]
  },
  {
   "cell_type": "markdown",
   "id": "647f8f51",
   "metadata": {},
   "source": [
    "<b>Ans: </b>The relative path is the path to some file with respect to your current working directory (PWD). <br>\n",
    "<b>For example: </b>if Absolute path to a file called stuff.txt is: C:/users/admin/docs/stuff.txt If my PWD is C:/users/admin/ , then the relative path to stuff.txt would be: docs/stuff.txt <br>\n",
    "<b>Note: </b>PWD + relative path = absolute path"
   ]
  },
  {
   "cell_type": "markdown",
   "id": "2c8c536c",
   "metadata": {},
   "source": [
    "# 2. What does an absolute path start with your operating system?"
   ]
  },
  {
   "cell_type": "markdown",
   "id": "87efaa05",
   "metadata": {},
   "source": [
    "<b>Ans: </b> In Linux based systems the absolute path starts with /. Where as in Windows based systems absolute path starts with C:"
   ]
  },
  {
   "cell_type": "markdown",
   "id": "0a1ba315",
   "metadata": {},
   "source": [
    "# 3. What do the functions os.getcwd() and os.chdir() do?"
   ]
  },
  {
   "cell_type": "markdown",
   "id": "a805c482",
   "metadata": {},
   "source": [
    "<b>Ans: </b>os.getcwd() method tells us the location of current working directory (CWD). Whereas os.chdir() method in Python used to change the current working directory to specified path. These functions are similar to linux commands pwd and cd"
   ]
  },
  {
   "cell_type": "code",
   "execution_count": 1,
   "id": "7a1ae9c6",
   "metadata": {},
   "outputs": [
    {
     "name": "stdout",
     "output_type": "stream",
     "text": [
      "C:\\Users\\kumar.amit\n",
      "C:\\Users\\kumar.amit\n"
     ]
    }
   ],
   "source": [
    "import os\n",
    "print(os.getcwd()) # Prints the current Working Directory\n",
    "path = r'C:\\Users\\mik\\Assignment 9 python basics'\n",
    "#os.chdir(path)\n",
    "print(os.getcwd())"
   ]
  },
  {
   "cell_type": "markdown",
   "id": "c7359ddc",
   "metadata": {},
   "source": [
    "# 4. What are the . and .. folders?"
   ]
  },
  {
   "cell_type": "markdown",
   "id": "c5f4a2ca",
   "metadata": {},
   "source": [
    "<b>Ans: </b>. Represents the Current Directory Whereas .. Represents the Parent Directory of the Current Directory<br>\n",
    "\n"
   ]
  },
  {
   "cell_type": "markdown",
   "id": "fdab75d4",
   "metadata": {},
   "source": [
    "# 5. In C:\\bacon\\eggs\\spam.txt, which part is the dir name, and which part is the base name?"
   ]
  },
  {
   "cell_type": "markdown",
   "id": "778cae5f",
   "metadata": {},
   "source": [
    "<b>Ans: </b>For C:\\bacon\\eggs\\spam.txt <br>\n",
    "The dir name is C:\\\\bacon\\\\eggs<br>\n",
    "The Base name is spam.txt<br>"
   ]
  },
  {
   "cell_type": "markdown",
   "id": "44d35db1",
   "metadata": {},
   "source": [
    "# 6. What are the three “mode” arguments that can be passed to the open() function?"
   ]
  },
  {
   "cell_type": "markdown",
   "id": "8689440d",
   "metadata": {},
   "source": [
    "<b>Ans: </b>A file can be Accessed in python using open() function. open function takes two arguments filename and mode of operation (optional). if mode is not provided the default mode of opening is read mode\n",
    "So, the syntax being: open(filename, mode)\n",
    "\n",
    "* ‘r’ – Read Mode: This is the default mode for open(). The file is opened and a pointer is positioned at the beginning of the file’s content.\n",
    "* ‘w’ – Write Mode: Using this mode will overwrite any existing content in a file. If the given file does not exist, a new one will be created.\n",
    "* ‘r+’ – Read/Write Mode: Use this mode if you need to simultaneously read and write to a file.\n",
    "* ‘a’ – Append Mode: With this mode the user can append the data without overwriting any already existing data in the file.\n",
    "* ‘a+’ – Append and Read Mode: In this mode you can read and append the data without overwriting the original file.\n",
    "* ‘x’ – Exclusive Creating Mode: This mode is for the sole purpose of creating new files. Use this mode if you know the file to be written doesn’t exist beforehand."
   ]
  },
  {
   "cell_type": "markdown",
   "id": "976a59d4",
   "metadata": {},
   "source": [
    "# 7. What happens if an existing file is opened in write mode?"
   ]
  },
  {
   "cell_type": "markdown",
   "id": "deba395f",
   "metadata": {},
   "source": [
    "<b>Ans: </b>Using this mode will overwrite any existing content in a file. If the given file does not exist, a new one will be created."
   ]
  },
  {
   "cell_type": "markdown",
   "id": "9c294935",
   "metadata": {},
   "source": [
    "# 8. How do you tell the difference between read() and readlines()?"
   ]
  },
  {
   "cell_type": "markdown",
   "id": "0aa04143",
   "metadata": {},
   "source": [
    "<b>Ans: </b>The main difference is that <b>read()</b> will read the whole file at once and then print out the first characters that take up as many bytes as you specify in the parenthesis <br>\n",
    "\n",
    "* Whereas the <b>readline() </b>that will read and print out only the first characters that take up as many bytes as you specify in the parenthesis. You may want to use readline() when you're reading files that are too big for your RAM.<br>\n",
    "* The <b>read()</b> would treat each character in the file separately, meaning that the iteration would happen for every character.<br>\n",
    "* The <b>readline() </b>function, on the other hand, only reads a single line of the file. This means that if the first line of the file were three lines long, the readline() function would only parse (or iterate/operate) on the first line of the file."
   ]
  },
  {
   "cell_type": "markdown",
   "id": "608d630f",
   "metadata": {},
   "source": [
    "# 9. What data structure does a shelf value resemble?"
   ]
  },
  {
   "cell_type": "markdown",
   "id": "9091f8a9",
   "metadata": {},
   "source": [
    "<b>Ans: </b>it contains key and values it represents dictionary."
   ]
  },
  {
   "cell_type": "code",
   "execution_count": null,
   "id": "b8609fa3",
   "metadata": {},
   "outputs": [],
   "source": []
  }
 ],
 "metadata": {
  "kernelspec": {
   "display_name": "Python 3 (ipykernel)",
   "language": "python",
   "name": "python3"
  },
  "language_info": {
   "codemirror_mode": {
    "name": "ipython",
    "version": 3
   },
   "file_extension": ".py",
   "mimetype": "text/x-python",
   "name": "python",
   "nbconvert_exporter": "python",
   "pygments_lexer": "ipython3",
   "version": "3.10.9"
  }
 },
 "nbformat": 4,
 "nbformat_minor": 5
}
