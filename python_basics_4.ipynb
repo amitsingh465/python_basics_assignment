{
 "cells": [
  {
   "cell_type": "markdown",
   "id": "81f03035",
   "metadata": {},
   "source": [
    "# 1. What exactly is []?"
   ]
  },
  {
   "cell_type": "markdown",
   "id": "0b90d6d6",
   "metadata": {},
   "source": [
    "<b>Ans:</b> The empty list represented by [] is a list that contains no items. This is similar to '' which represents an empty string."
   ]
  },
  {
   "cell_type": "markdown",
   "id": "bfb2b3d3",
   "metadata": {},
   "source": [
    "# 2. In a list of values stored in a variable called spam, how would you assign the value &#39;hello&#39; as the third value? (Assume [2, 4, 6, 8, 10] are in spam.)"
   ]
  },
  {
   "cell_type": "code",
   "execution_count": 1,
   "id": "670cd970",
   "metadata": {},
   "outputs": [
    {
     "name": "stdout",
     "output_type": "stream",
     "text": [
      "[2, 4, 6, 8, 10]\n",
      "[2, 4, 'hello', 8, 10]\n"
     ]
    }
   ],
   "source": [
    "# Example\n",
    "spam=[2,4,6,8,10]\n",
    "print(spam)\n",
    "spam[2]='hello' #List uses zero based indexing\n",
    "print(spam)"
   ]
  },
  {
   "cell_type": "markdown",
   "id": "2bf62d10",
   "metadata": {},
   "source": [
    "# 3. What is the value of spam[int(int(&#39;3&#39; * 2) / 11)]?"
   ]
  },
  {
   "cell_type": "markdown",
   "id": "dd21baf7",
   "metadata": {},
   "source": [
    "<b>Ans:</b> 'd' (Note that '3' * 2 is the string '33', which is passed to int() before being divided by 11. This eventually evaluates to 3, spam[3] is equal to d.)"
   ]
  },
  {
   "cell_type": "markdown",
   "id": "0da60505",
   "metadata": {},
   "source": [
    "# 4. What is the value of spam[-1]?"
   ]
  },
  {
   "cell_type": "markdown",
   "id": "1e3e8c4d",
   "metadata": {},
   "source": [
    "<b>Ans:</b>'d' (Lists support Negative indexing, Hence spam[-1] returns 'd')"
   ]
  },
  {
   "cell_type": "markdown",
   "id": "5b9e0cbc",
   "metadata": {},
   "source": [
    "# 5. What is the value of spam[:2]?"
   ]
  },
  {
   "cell_type": "markdown",
   "id": "98b022ff",
   "metadata": {},
   "source": [
    "<b>Ans:</b> spam[:2] returns all elements in the list spam from 0 to 2 excluding 2"
   ]
  },
  {
   "cell_type": "markdown",
   "id": "c9583037",
   "metadata": {},
   "source": [
    "# Let&#39;s pretend bacon has the list [3.14, &#39;cat,&#39; 11, &#39;cat,&#39; True] for the next three questions."
   ]
  },
  {
   "cell_type": "markdown",
   "id": "afa24747",
   "metadata": {},
   "source": [
    "# 6. What is the value of bacon.index(&#39;cat&#39;)?"
   ]
  },
  {
   "cell_type": "markdown",
   "id": "01cc3a0e",
   "metadata": {},
   "source": [
    "<b>Ans:</b> The value of bacon.index('cat') is 1 (Note: index method returns the index of first occuerence of 'cat')"
   ]
  },
  {
   "cell_type": "markdown",
   "id": "2db85e80",
   "metadata": {},
   "source": [
    "# 7. How does bacon.append(99) change the look of the list value in bacon?"
   ]
  },
  {
   "cell_type": "code",
   "execution_count": 4,
   "id": "71ffe53d",
   "metadata": {},
   "outputs": [
    {
     "name": "stdout",
     "output_type": "stream",
     "text": [
      "[3.14, 'cat', 'True', 99]\n"
     ]
    }
   ],
   "source": [
    "bacon = [3.14,'cat','True']\n",
    "bacon.append(99)\n",
    "print(bacon)"
   ]
  },
  {
   "cell_type": "markdown",
   "id": "79c72d9b",
   "metadata": {},
   "source": [
    "# 8. How does bacon.remove(&#39;cat&#39;) change the look of the list in bacon?\n"
   ]
  },
  {
   "cell_type": "code",
   "execution_count": 5,
   "id": "6c50aa56",
   "metadata": {},
   "outputs": [
    {
     "name": "stdout",
     "output_type": "stream",
     "text": [
      "[3.14, 'True']\n"
     ]
    }
   ],
   "source": [
    "bacon = [3.14,'cat','True']\n",
    "bacon.remove('cat')\n",
    "print(bacon)"
   ]
  },
  {
   "cell_type": "markdown",
   "id": "6f35be1d",
   "metadata": {},
   "source": [
    "# 9. What are the list concatenation and list replication operators?"
   ]
  },
  {
   "cell_type": "markdown",
   "id": "5975d32a",
   "metadata": {},
   "source": [
    "<b>Ans:</b> The operator for list concatenation is +, while the operator for replication is *. (This is the same as for strings.)"
   ]
  },
  {
   "cell_type": "code",
   "execution_count": 6,
   "id": "66cda964",
   "metadata": {},
   "outputs": [
    {
     "name": "stdout",
     "output_type": "stream",
     "text": [
      "['RNN', 'CNN', 'SVN', 'monk', 'mink', 'ink']\n",
      "['monk', 'mink', 'ink', 'monk', 'mink', 'ink']\n"
     ]
    }
   ],
   "source": [
    "# Example\n",
    "list_1 = ['RNN','CNN','SVN']\n",
    "list_2 = ['monk','mink','ink']\n",
    "print(list_1 + list_2) # List Concatenation\n",
    "print(list_2*2) # List Replication"
   ]
  },
  {
   "cell_type": "markdown",
   "id": "4d4be4d7",
   "metadata": {},
   "source": [
    "# 10. What is difference between the list methods append() and insert()?"
   ]
  },
  {
   "cell_type": "markdown",
   "id": "09ea0c9a",
   "metadata": {},
   "source": [
    "<b>Ans:</b> While append() will add values only to the end of a list, insert() can add them anywhere in the list."
   ]
  },
  {
   "cell_type": "code",
   "execution_count": 7,
   "id": "ae50ec4c",
   "metadata": {},
   "outputs": [
    {
     "name": "stdout",
     "output_type": "stream",
     "text": [
      "['amit', 'kundan', 4, 'True', 'Manvi']\n",
      "['amit', 'kundan', 'Garg', 4, 'True', 'Manvi']\n"
     ]
    }
   ],
   "source": [
    "l = ['amit','kundan',4,'True']\n",
    "l.append('Manvi')\n",
    "print(l)\n",
    "l.insert(2,'Garg')\n",
    "print(l)"
   ]
  },
  {
   "cell_type": "markdown",
   "id": "1467671e",
   "metadata": {},
   "source": [
    "# 11. What are the two methods for removing items from a list?"
   ]
  },
  {
   "cell_type": "markdown",
   "id": "d4eac000",
   "metadata": {},
   "source": [
    "<b>Ans:</b> The del statement and the remove() method are two ways to remove values from a list."
   ]
  },
  {
   "cell_type": "markdown",
   "id": "37d421b6",
   "metadata": {},
   "source": [
    "# 12. Describe how list values and string values are identical."
   ]
  },
  {
   "cell_type": "markdown",
   "id": "d4c5d94d",
   "metadata": {},
   "source": [
    "<b>Ans:</b> Both lists and strings can be passed to len() function, have indexes and slices, be used in for loops, be concatenated or replicated, and be used with the in and not in operators."
   ]
  },
  {
   "cell_type": "markdown",
   "id": "42be9626",
   "metadata": {},
   "source": [
    "# 13. What&#39;s the difference between tuples and lists?"
   ]
  },
  {
   "cell_type": "markdown",
   "id": "9aeb9cb9",
   "metadata": {},
   "source": [
    "<b>Ans: </b>Lists are Mutable, Indexable and Slicable. they can have values added, removed, or changed. Tuples are Immutable but Indexable and Slicable. the tuple values cannot be changed at all. Also, tuples are represented using parentheses, (), while lists use the square brackets, []."
   ]
  },
  {
   "cell_type": "markdown",
   "id": "3a36eaef",
   "metadata": {},
   "source": [
    "# 14. How do you type a tuple value that only contains the integer 42?"
   ]
  },
  {
   "cell_type": "markdown",
   "id": "435ed7ae",
   "metadata": {},
   "source": [
    "<b>Ans:</b>(42,) (The trailing comma is mandatory. otherwise its considered as a int by python Interpreter)."
   ]
  },
  {
   "cell_type": "code",
   "execution_count": 8,
   "id": "7d7cd80e",
   "metadata": {},
   "outputs": [
    {
     "name": "stdout",
     "output_type": "stream",
     "text": [
      "<class 'int'>\n",
      "<class 'tuple'>\n"
     ]
    }
   ],
   "source": [
    "tup1=(42)\n",
    "tup2=(42,)\n",
    "print(type(tup1))\n",
    "print(type(tup2))"
   ]
  },
  {
   "cell_type": "markdown",
   "id": "e8704b3a",
   "metadata": {},
   "source": [
    "# 15. How do you get a list value&#39;s tuple form? How do you get a tuple value&#39;s list form?"
   ]
  },
  {
   "cell_type": "markdown",
   "id": "25cf3d81",
   "metadata": {},
   "source": [
    "<b>Ans: </b>The tuple() and list() functions, respectively are used to convert a list to tuple and vice versa."
   ]
  },
  {
   "cell_type": "markdown",
   "id": "8ae1ce59",
   "metadata": {},
   "source": [
    "# 16. Variables that &quot;contain&quot; list values are not necessarily lists themselves. Instead, what do they contain?"
   ]
  },
  {
   "cell_type": "markdown",
   "id": "ffbab4c0",
   "metadata": {},
   "source": [
    "<b>Ans: </b>They contain references to list values."
   ]
  },
  {
   "cell_type": "markdown",
   "id": "6118c6ec",
   "metadata": {},
   "source": [
    "# 17. How do you distinguish between copy.copy() and copy.deepcopy()?"
   ]
  },
  {
   "cell_type": "markdown",
   "id": "3056103a",
   "metadata": {},
   "source": [
    "<b>Ans:</b> The copy.copy() function will do a shallow copy of a list, while the copy.deepcopy() function will do a deep copy of a list. That is, only copy.deepcopy() will duplicate any lists inside the list."
   ]
  },
  {
   "cell_type": "code",
   "execution_count": null,
   "id": "08b93193",
   "metadata": {},
   "outputs": [],
   "source": []
  }
 ],
 "metadata": {
  "kernelspec": {
   "display_name": "Python 3 (ipykernel)",
   "language": "python",
   "name": "python3"
  },
  "language_info": {
   "codemirror_mode": {
    "name": "ipython",
    "version": 3
   },
   "file_extension": ".py",
   "mimetype": "text/x-python",
   "name": "python",
   "nbconvert_exporter": "python",
   "pygments_lexer": "ipython3",
   "version": "3.10.9"
  }
 },
 "nbformat": 4,
 "nbformat_minor": 5
}
