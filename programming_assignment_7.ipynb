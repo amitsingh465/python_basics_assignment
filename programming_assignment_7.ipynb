{
 "cells": [
  {
   "cell_type": "markdown",
   "id": "cea7112d",
   "metadata": {},
   "source": [
    "1. Write a Python Program to find sum of array?"
   ]
  },
  {
   "cell_type": "code",
   "execution_count": 3,
   "id": "a81e715c",
   "metadata": {},
   "outputs": [
    {
     "name": "stdout",
     "output_type": "stream",
     "text": [
      "Enter the Array: [1,2,3,4,5]\n",
      "The sum of [1, 2, 3, 4, 5] is 15\n"
     ]
    }
   ],
   "source": [
    "def sumOfArray():\n",
    "    in_arr = eval(input(\"Enter the Array: \"))\n",
    "    print(f'The sum of {in_arr} is {sum(in_arr)}')\n",
    "\n",
    "sumOfArray()\n"
   ]
  },
  {
   "cell_type": "markdown",
   "id": "ee20deec",
   "metadata": {},
   "source": [
    "2. Write a Python Program to find largest element in an array?"
   ]
  },
  {
   "cell_type": "code",
   "execution_count": 4,
   "id": "f510985b",
   "metadata": {},
   "outputs": [
    {
     "name": "stdout",
     "output_type": "stream",
     "text": [
      "Enter the Array: [1,2,3,9,6]\n",
      "The Largest Element in [1, 2, 3, 9, 6] is 9\n"
     ]
    }
   ],
   "source": [
    "def largestElement():\n",
    "    in_arr = eval(input(\"Enter the Array: \"))\n",
    "    print(f\"The Largest Element in {in_arr} is {sorted(in_arr, reverse=True)[0]}\")\n",
    "    \n",
    "largestElement()"
   ]
  },
  {
   "cell_type": "markdown",
   "id": "cf0d95f2",
   "metadata": {},
   "source": [
    "3. Write a Python Program for array rotation?"
   ]
  },
  {
   "cell_type": "code",
   "execution_count": 14,
   "id": "4d8c5b3d",
   "metadata": {},
   "outputs": [
    {
     "name": "stdout",
     "output_type": "stream",
     "text": [
      "enter the array: [1,2,3,4,5]\n",
      "the reverse of array is  [5, 4, 3, 2, 1]\n"
     ]
    }
   ],
   "source": [
    "def array_rotation():\n",
    "    array = eval(input(\"enter the array: \"))\n",
    "    print(\"the reverse of array is \",array[::-1])\n",
    "array_rotation()"
   ]
  },
  {
   "cell_type": "markdown",
   "id": "e2378c42",
   "metadata": {},
   "source": [
    "4. Write a Python Program to Split the array and add the first part to the end?"
   ]
  },
  {
   "cell_type": "code",
   "execution_count": 15,
   "id": "3cc154b3",
   "metadata": {},
   "outputs": [
    {
     "name": "stdout",
     "output_type": "stream",
     "text": [
      "enter the value of the array: [2,3,4,6,7]\n",
      "split and sum of the array is  9\n"
     ]
    }
   ],
   "source": [
    "def sumofsplit():\n",
    "    array = eval(input(\"enter the value of the array: \"))\n",
    "    print(\"split and sum of the array is \",array[0]+array[-1])\n",
    "sumofsplit()"
   ]
  },
  {
   "cell_type": "markdown",
   "id": "9b90b140",
   "metadata": {},
   "source": [
    "# 5. Write a Python Program to check if given array is Monotonic?"
   ]
  },
  {
   "cell_type": "code",
   "execution_count": 17,
   "id": "ab5861b7",
   "metadata": {},
   "outputs": [
    {
     "name": "stdout",
     "output_type": "stream",
     "text": [
      "Enter the Array: [1,2,3,4,5]\n",
      "Array [1, 2, 3, 4, 5] is Monotonic\n",
      "Enter the Array: [3,5,8,9,4]\n",
      "Array [3, 5, 8, 9, 4] is Not Monotonic\n"
     ]
    }
   ],
   "source": [
    "def checkMonotonic():\n",
    "    array = eval(input(\"Enter the Array: \"))\n",
    "    if(all(array[i]<=array[i+1] for i in range(len(array)-1)) or all(array[i]>=array[i+1] for i in range(len(array)-1))):\n",
    "        print(f'Array {array} is Monotonic')\n",
    "    else:\n",
    "        print(f'Array {array} is Not Monotonic')\n",
    "\n",
    "checkMonotonic()\n",
    "checkMonotonic()"
   ]
  },
  {
   "cell_type": "code",
   "execution_count": null,
   "id": "fd585021",
   "metadata": {},
   "outputs": [],
   "source": []
  }
 ],
 "metadata": {
  "kernelspec": {
   "display_name": "Python 3 (ipykernel)",
   "language": "python",
   "name": "python3"
  },
  "language_info": {
   "codemirror_mode": {
    "name": "ipython",
    "version": 3
   },
   "file_extension": ".py",
   "mimetype": "text/x-python",
   "name": "python",
   "nbconvert_exporter": "python",
   "pygments_lexer": "ipython3",
   "version": "3.10.9"
  }
 },
 "nbformat": 4,
 "nbformat_minor": 5
}
