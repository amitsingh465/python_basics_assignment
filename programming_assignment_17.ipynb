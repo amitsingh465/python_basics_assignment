{
 "cells": [
  {
   "cell_type": "markdown",
   "id": "8fe4afbd",
   "metadata": {},
   "source": [
    "Question1. Create a function that takes three arguments a, b, c and returns the sum of the\n",
    "numbers that are evenly divided by c from the range a, b inclusive."
   ]
  },
  {
   "cell_type": "code",
   "execution_count": 1,
   "id": "417d1289",
   "metadata": {},
   "outputs": [
    {
     "name": "stdout",
     "output_type": "stream",
     "text": [
      "(1, 10, 20) ➞ 0\n",
      "(1, 10, 2) ➞ 30\n",
      "(1, 10, 3) ➞ 18\n"
     ]
    }
   ],
   "source": [
    "def evenDivisible(a,b,c):\n",
    "    divList = []\n",
    "    for num in range(a,b+1):\n",
    "        if num%c == 0:\n",
    "            divList.append(num)\n",
    "    print(f'{a,b,c} ➞ {sum(divList)}')\n",
    "\n",
    "evenDivisible(1,10,20)\n",
    "evenDivisible(1,10,2)\n",
    "evenDivisible(1,10,3)"
   ]
  },
  {
   "cell_type": "markdown",
   "id": "f2fcd954",
   "metadata": {},
   "source": [
    "Question2. Create a function that returns True if a given inequality expression is correct and\n",
    "False otherwise."
   ]
  },
  {
   "cell_type": "code",
   "execution_count": 2,
   "id": "5a988499",
   "metadata": {},
   "outputs": [
    {
     "name": "stdout",
     "output_type": "stream",
     "text": [
      "Enter the inequality: 3<7<11\n",
      "3<7<11 ➞ True\n",
      "Enter the inequality: 5>3>9\n",
      "5>3>9 ➞ False\n",
      "Enter the inequality: 6>5>4\n",
      "6>5>4 ➞ True\n"
     ]
    }
   ],
   "source": [
    "def checkEquality():\n",
    "    in_string = input('Enter the inequality: ')\n",
    "    out_bool = eval(in_string)\n",
    "    print(f'{in_string} ➞ {out_bool}')\n",
    "\n",
    "for x in range(3):\n",
    "    checkEquality()"
   ]
  },
  {
   "cell_type": "markdown",
   "id": "4f842d4f",
   "metadata": {},
   "source": [
    "Question3. Create a function that replaces all the vowels in a string with a specified character."
   ]
  },
  {
   "cell_type": "code",
   "execution_count": 3,
   "id": "7a9e3ed4",
   "metadata": {},
   "outputs": [],
   "source": [
    "def replace_vowels(string, replacement):\n",
    "    vowels = 'aeiouAEIOU'\n",
    "    result = ''\n",
    "    for char in string:\n",
    "        if char in vowels:\n",
    "            result += replacement\n",
    "        else:\n",
    "            result += char\n",
    "    return result\n",
    "\n",
    "    "
   ]
  },
  {
   "cell_type": "markdown",
   "id": "d8469ece",
   "metadata": {},
   "source": [
    "Question4. Write a function that calculates the factorial of a number recursively."
   ]
  },
  {
   "cell_type": "code",
   "execution_count": 2,
   "id": "192cdeb0",
   "metadata": {},
   "outputs": [
    {
     "name": "stdout",
     "output_type": "stream",
     "text": [
      "factorial(5) ➞ 120\n",
      "factorial(3) ➞ 6\n",
      "factorial(1) ➞ 1\n",
      "factorial(0) ➞ 1\n"
     ]
    }
   ],
   "source": [
    "def factorial(n):\n",
    "    if n==0:\n",
    "        return 1\n",
    "    return n * factorial(n-1)\n",
    "\n",
    "print(f'factorial(5) ➞ {factorial(5)}')\n",
    "print(f'factorial(3) ➞ {factorial(3)}')\n",
    "print(f'factorial(1) ➞ {factorial(1)}')\n",
    "print(f'factorial(0) ➞ {factorial(0)}')\n",
    "\n",
    "    "
   ]
  },
  {
   "cell_type": "markdown",
   "id": "c1667bee",
   "metadata": {},
   "source": [
    "Create a function that computes the hamming distance between two strings.Hamming distance is the number of characters that differ between two strings."
   ]
  },
  {
   "cell_type": "code",
   "execution_count": 3,
   "id": "66bd272a",
   "metadata": {},
   "outputs": [
    {
     "name": "stdout",
     "output_type": "stream",
     "text": [
      "Enter the String_1: abcde\n",
      "Enter the String_2: bcfg\n",
      "Both Strings Must be of Same Length\n",
      "Enter the String_1: abcde\n",
      "Enter the String_2: bcdgh\n",
      "Hamning Distance b/w abcde and bcdgh ➞ 5\n",
      "Enter the String_1: cdefg\n",
      "Enter the String_2: cdefg\n",
      "Hamning Distance b/w cdefg and cdefg ➞ 0\n"
     ]
    }
   ],
   "source": [
    "def genHamDistance():\n",
    "    in_string_1 = input('Enter the String_1: ')\n",
    "    in_string_2 = input('Enter the String_2: ')\n",
    "    if len(in_string_1) == len(in_string_2):\n",
    "        count = 0\n",
    "        for i in range(len(in_string_1)):\n",
    "            if in_string_1[i] != in_string_2[i]:\n",
    "                count = count+1\n",
    "        print(f'Hamning Distance b/w {in_string_1} and {in_string_2} ➞ {count}')\n",
    "    else:\n",
    "        print('Both Strings Must be of Same Length')\n",
    "\n",
    "for x in range(3):\n",
    "    genHamDistance()"
   ]
  },
  {
   "cell_type": "code",
   "execution_count": null,
   "id": "ac4e84dc",
   "metadata": {},
   "outputs": [],
   "source": []
  }
 ],
 "metadata": {
  "kernelspec": {
   "display_name": "Python 3 (ipykernel)",
   "language": "python",
   "name": "python3"
  },
  "language_info": {
   "codemirror_mode": {
    "name": "ipython",
    "version": 3
   },
   "file_extension": ".py",
   "mimetype": "text/x-python",
   "name": "python",
   "nbconvert_exporter": "python",
   "pygments_lexer": "ipython3",
   "version": "3.10.9"
  }
 },
 "nbformat": 4,
 "nbformat_minor": 5
}
