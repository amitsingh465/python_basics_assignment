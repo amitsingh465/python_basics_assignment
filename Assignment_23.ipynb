{
 "cells": [
  {
   "cell_type": "markdown",
   "id": "e85d40c3",
   "metadata": {},
   "source": [
    "# 1. What is the result of the code, and why?\n",
    "&gt;&gt;&gt; def func(a, b=6, c=8): <br>\n",
    "print(a, b, c) <br>\n",
    "&gt;&gt;&gt; func(1, 2) <br>"
   ]
  },
  {
   "cell_type": "code",
   "execution_count": 1,
   "id": "7ab451f8",
   "metadata": {},
   "outputs": [
    {
     "name": "stdout",
     "output_type": "stream",
     "text": [
      "1 2 8\n"
     ]
    }
   ],
   "source": [
    "def func(a,b=6,c=8):\n",
    "    print(a,b,c)\n",
    "func(1,2)"
   ]
  },
  {
   "cell_type": "markdown",
   "id": "52274a4a",
   "metadata": {},
   "source": [
    "When the function func is called with the arguments 1 and 2, the parameter a takes the value 1, the parameter b takes the value 2, and since no value is provided for the parameter c, it takes its default value of 8.\n",
    "\n",
    "Therefore, when the print statement is executed inside the function, it displays 1 for a, 2 for b, and 8 for c."
   ]
  },
  {
   "cell_type": "markdown",
   "id": "843e59ef",
   "metadata": {},
   "source": [
    "# 2. What is the result of this code, and why?\n",
    "&gt;&gt;&gt; def func(a, b, c=5): <br>\n",
    "print(a, b, c) <br>\n",
    "&gt;&gt;&gt; func(1, c=3, b=2)"
   ]
  },
  {
   "cell_type": "code",
   "execution_count": 2,
   "id": "76eca2fd",
   "metadata": {},
   "outputs": [
    {
     "name": "stdout",
     "output_type": "stream",
     "text": [
      "1 2 3\n"
     ]
    }
   ],
   "source": [
    "def func(a,b,c=5):\n",
    "    print(a,b,c)\n",
    "func(1,c=3,b=2)"
   ]
  },
  {
   "cell_type": "markdown",
   "id": "084008b6",
   "metadata": {},
   "source": [
    "# 3. How about this code: what is its result, and why?\n",
    "&gt;&gt;&gt; def func(a, *pargs): <br>\n",
    "print(a, pargs) <br>\n",
    "&gt;&gt;&gt; func(1, 2, 3)"
   ]
  },
  {
   "cell_type": "code",
   "execution_count": 4,
   "id": "4e0d99ed",
   "metadata": {},
   "outputs": [
    {
     "name": "stdout",
     "output_type": "stream",
     "text": [
      "1 (2, 3)\n"
     ]
    }
   ],
   "source": [
    "def func(a,*pargs):\n",
    "    print(a,pargs)\n",
    "func(1,2,3)"
   ]
  },
  {
   "cell_type": "markdown",
   "id": "72a6c729",
   "metadata": {},
   "source": [
    "\n",
    "\n",
    "\n",
    "In this code, the function func has a parameter a and *pargs. The *pargs parameter allows the function to accept any number of additional positional arguments.\n",
    "\n",
    "When the function func is called with the arguments 1, 2, 3, the value 1 is assigned to the parameter a, and the remaining values 2 and 3 are collected into a tuple and assigned to pargs.\n",
    "\n",
    "Therefore, when the print statement is executed inside the function, it displays 1 for a and (2, 3) for pargs, indicating that pargs is a tuple containing the additional positional arguments passed to the function"
   ]
  },
  {
   "cell_type": "markdown",
   "id": "4368de6f",
   "metadata": {},
   "source": [
    "# 4. What does this code print, and why?\n",
    "&gt;&gt;&gt; def func(a, **kargs): <br>\n",
    "print(a, kargs) <br>\n",
    "&gt;&gt;&gt; func(a=1, c=3, b=2) "
   ]
  },
  {
   "cell_type": "code",
   "execution_count": 5,
   "id": "05a5a68d",
   "metadata": {},
   "outputs": [
    {
     "name": "stdout",
     "output_type": "stream",
     "text": [
      "1 {'c': 3, 'b': 2}\n"
     ]
    }
   ],
   "source": [
    "def func(a,**kargs):\n",
    "    print(a,kargs)\n",
    "func(a=1,c=3,b=2)"
   ]
  },
  {
   "cell_type": "markdown",
   "id": "defda031",
   "metadata": {},
   "source": [
    "# 5. What gets printed by this, and explain?\n",
    "&gt;&gt;&gt; def func(a, b, c=8, d=5): print(a, b, c, d) <br>.\n",
    "&gt;&gt;&gt; func(1, *(5, 6))"
   ]
  },
  {
   "cell_type": "code",
   "execution_count": 6,
   "id": "dcff6ade",
   "metadata": {},
   "outputs": [
    {
     "name": "stdout",
     "output_type": "stream",
     "text": [
      "1 5 6 5\n"
     ]
    }
   ],
   "source": [
    "def func(a,b,c=8,d=5):\n",
    "    print(a,b,c,d)\n",
    "func(1,*(5,6))"
   ]
  },
  {
   "cell_type": "markdown",
   "id": "9e6d545c",
   "metadata": {},
   "source": [
    "In this code, the function func has parameters a, b, c, and d.\n",
    "\n",
    "When the function func is called with the arguments 1 and *(5, 6), the value 1 is assigned to the parameter a, and the values (5, 6) are unpacked and assigned to the parameters b and c, respectively. Since no value is provided for the parameter d, it takes its default value of 5.\n",
    "\n",
    "Therefore, when the print statement is executed inside the function, it displays 1 for a, 5 for b, 6 for c, and 5 for d."
   ]
  },
  {
   "cell_type": "markdown",
   "id": "9e1df607",
   "metadata": {},
   "source": [
    "# 6. what is the result of this, and explain?\n",
    "&gt;&gt;&gt; def func(a, b, c): a = 2; b[0] = &#39;x&#39;; c[&#39;a&#39;] = &#39;y&#39; <br>\n",
    "&gt;&gt;&gt; l=1; m=[1]; n={&#39;a&#39;:0} <br>\n",
    "&gt;&gt;&gt; func(l, m, n)<br>\n",
    "\n",
    "&gt;&gt;&gt; l, m, n"
   ]
  },
  {
   "cell_type": "code",
   "execution_count": 7,
   "id": "d156dbf4",
   "metadata": {},
   "outputs": [
    {
     "data": {
      "text/plain": [
       "(1, ['x'], {'a': 'y'})"
      ]
     },
     "execution_count": 7,
     "metadata": {},
     "output_type": "execute_result"
    }
   ],
   "source": [
    "def func(a,b,c):\n",
    "    a = 2;b[0]='x';c['a']='y'\n",
    "l=1;m=[1];n={'a':0}\n",
    "func(l,m,n)\n",
    "l,m,n"
   ]
  },
  {
   "cell_type": "markdown",
   "id": "5e249f1d",
   "metadata": {},
   "source": [
    "In this code, the function func takes three parameters a, b, and c. Inside the function, the following actions are performed:\n",
    "\n",
    "a is assigned the value 2. However, since a is a local variable within the function, it does not affect the value of the l variable outside the function.\n",
    "b[0] is assigned the value 'x'. Since m is a mutable list, this modification changes the first element of the list from 1 to 'x'. Therefore, when we access m after calling the function, it reflects the change made within the function.\n",
    "c['a'] is assigned the value 'y'. Since n is a mutable dictionary, this modification changes the value associated with the key 'a' from 0 to 'y'. Therefore, when we access n after calling the function, it reflects the change made within the function.\n",
    "As a result, l remains 1 because it is not affected by the function call. m is now ['x'] due to the modification made within the function. n is now {'a': 'y'} due to the modification made within the function.\n",
    "\n",
    "\n",
    "\n",
    "\n",
    "\n",
    "\n"
   ]
  },
  {
   "cell_type": "code",
   "execution_count": null,
   "id": "d6cacad3",
   "metadata": {},
   "outputs": [],
   "source": []
  }
 ],
 "metadata": {
  "kernelspec": {
   "display_name": "Python 3 (ipykernel)",
   "language": "python",
   "name": "python3"
  },
  "language_info": {
   "codemirror_mode": {
    "name": "ipython",
    "version": 3
   },
   "file_extension": ".py",
   "mimetype": "text/x-python",
   "name": "python",
   "nbconvert_exporter": "python",
   "pygments_lexer": "ipython3",
   "version": "3.10.9"
  }
 },
 "nbformat": 4,
 "nbformat_minor": 5
}
