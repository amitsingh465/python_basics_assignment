{
 "cells": [
  {
   "cell_type": "code",
   "execution_count": 1,
   "id": "2bbd23f3",
   "metadata": {},
   "outputs": [
    {
     "name": "stdout",
     "output_type": "stream",
     "text": [
      "Enter the Word :outstanding\n",
      "outstanding ➞ ou... ou... outstanding?\n",
      "Enter the Word :everybody\n",
      "everybody ➞ ev... ev... everybody?\n",
      "Enter the Word :today\n",
      "today ➞ to... to... today?\n"
     ]
    }
   ],
   "source": [
    "# 1\n",
    "def stutterWord():\n",
    "    in_string = input('Enter the Word :')\n",
    "    out_string = in_string.replace(in_string[0:2],((in_string[0:2]+'... ')*2)+ in_string[0:2])  +'?'\n",
    "    print(f'{in_string} ➞ {out_string}')\n",
    "\n",
    "for i in range(3):\n",
    "    stutterWord()"
   ]
  },
  {
   "cell_type": "markdown",
   "id": "eb334f8b",
   "metadata": {},
   "source": [
    "Question 2.Create a function that takes an angle in radians and returns the corresponding\n",
    "angle in degrees rounded to one decimal place."
   ]
  },
  {
   "cell_type": "code",
   "execution_count": 3,
   "id": "bb2ab11a",
   "metadata": {},
   "outputs": [
    {
     "name": "stdout",
     "output_type": "stream",
     "text": [
      "Enter the angle in Radians: 2\n",
      "2 radian(s) ➞ 114.6 degrees\n"
     ]
    }
   ],
   "source": [
    "import math\n",
    "def rad_to_degree():\n",
    "    in_num = int(input('Enter the angle in Radians: '))\n",
    "    out_num = (180/math.pi)*in_num\n",
    "    print(f'{in_num} radian(s) ➞ {out_num:.1f} degrees')\n",
    "rad_to_degree()"
   ]
  },
  {
   "cell_type": "markdown",
   "id": "36b64634",
   "metadata": {},
   "source": [
    "In this challenge, establish if a given integer num is a Curzon number. If 1 plus\n",
    "2 elevated to num is exactly divisible by 1 plus 2 multiplied by num, then num is a Curzon\n",
    "number."
   ]
  },
  {
   "cell_type": "code",
   "execution_count": 5,
   "id": "5880bcfb",
   "metadata": {},
   "outputs": [
    {
     "name": "stdout",
     "output_type": "stream",
     "text": [
      "enter the number: 3\n",
      "not a curzon number\n"
     ]
    }
   ],
   "source": [
    "n = int(input(\"enter the number: \"))\n",
    "def iscurzonnumber():\n",
    "    a = 2**n+1\n",
    "    b = 2*n+1\n",
    "    if a%b==0:\n",
    "        print(\"curzon number\")\n",
    "    else:\n",
    "        print(\"not a curzon number\")\n",
    "\n",
    "iscurzonnumber()\n",
    " "
   ]
  },
  {
   "cell_type": "markdown",
   "id": "b1271aaa",
   "metadata": {},
   "source": [
    "Question 4.Given the side length x find the area of a hexagon."
   ]
  },
  {
   "cell_type": "code",
   "execution_count": 12,
   "id": "f2ac0647",
   "metadata": {},
   "outputs": [
    {
     "name": "stdout",
     "output_type": "stream",
     "text": [
      "enter the number: 5\n",
      "1.7320508075688772\n",
      "64.9519052838329\n"
     ]
    }
   ],
   "source": [
    "import math\n",
    "x = int(input(\"enter the number: \"))\n",
    "def area():\n",
    "    a = math.sqrt(3)\n",
    "    print(a)\n",
    "    b = ((3*a)*x**2)/2\n",
    "    print(b)\n",
    "area()\n",
    "    "
   ]
  },
  {
   "cell_type": "markdown",
   "id": "6b785115",
   "metadata": {},
   "source": [
    "Question 5. Create a function that returns a base-2 (binary) representation of a base-10\n",
    "(decimal) string number. To convert is simple: ((2) means base-2 and (10) means base-10)\n",
    "010101001(2) = 1 + 8 + 32 + 128.\n",
    "Going from right to left, the value of the most right bit is 1, now from that every bit to the left\n",
    "will be x2 the value, value of an 8 bit binary numbers are (256, 128, 64, 32, 16, 8, 4, 2, 1)."
   ]
  },
  {
   "cell_type": "code",
   "execution_count": 14,
   "id": "b911add5",
   "metadata": {
    "scrolled": true
   },
   "outputs": [
    {
     "name": "stdout",
     "output_type": "stream",
     "text": [
      "enter the number: 128\n",
      "0b10000000\n"
     ]
    }
   ],
   "source": [
    "import math\n",
    "n = int(input(\"enter the number: \"))\n",
    "result = bin(n)\n",
    "print(result)"
   ]
  },
  {
   "cell_type": "code",
   "execution_count": null,
   "id": "c1d389cb",
   "metadata": {},
   "outputs": [],
   "source": []
  }
 ],
 "metadata": {
  "kernelspec": {
   "display_name": "Python 3 (ipykernel)",
   "language": "python",
   "name": "python3"
  },
  "language_info": {
   "codemirror_mode": {
    "name": "ipython",
    "version": 3
   },
   "file_extension": ".py",
   "mimetype": "text/x-python",
   "name": "python",
   "nbconvert_exporter": "python",
   "pygments_lexer": "ipython3",
   "version": "3.10.9"
  }
 },
 "nbformat": 4,
 "nbformat_minor": 5
}
