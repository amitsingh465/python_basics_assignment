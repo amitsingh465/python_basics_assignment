{
 "cells": [
  {
   "cell_type": "markdown",
   "id": "7ef54ed9",
   "metadata": {},
   "source": [
    "Question 1:\n",
    "Write a program that calculates and prints the value according to the given formula:\n",
    "Q = Square root of [(2 * C * D)/H]\n",
    "Following are the fixed values of C and H:\n",
    "C is 50. H is 30.\n",
    "D is the variable whose values should be input to your program in a comma-separated\n",
    "sequence.\n",
    "Example\n",
    "Let us assume the following comma separated input sequence is given to the program:\n",
    "100,150,180\n",
    "The output of the program should be:\n",
    "18,22,24"
   ]
  },
  {
   "cell_type": "code",
   "execution_count": 1,
   "id": "e6a79544",
   "metadata": {},
   "outputs": [
    {
     "name": "stdout",
     "output_type": "stream",
     "text": [
      "18,22,24\n"
     ]
    }
   ],
   "source": [
    "import math\n",
    "\n",
    "def calculate_values(input_sequence):\n",
    "    C = 50\n",
    "    H = 30\n",
    "    values = input_sequence.split(\",\")\n",
    "    results = []\n",
    "    for value in values:\n",
    "        D = int(value)\n",
    "        Q = math.sqrt((2 * C * D) / H)\n",
    "        results.append(round(Q))\n",
    "    return results\n",
    "\n",
    "# Example usage\n",
    "input_sequence = \"100,150,180\"\n",
    "output_values = calculate_values(input_sequence)\n",
    "output_string = \",\".join(map(str, output_values))\n",
    "print(output_string)\n"
   ]
  },
  {
   "cell_type": "markdown",
   "id": "16a35a77",
   "metadata": {},
   "source": [
    "Write a program which takes 2 digits, X,Y as input and generates a 2-dimensional array. The\n",
    "element value in the i-th row and j-th column of the array should be i*j.\n",
    "Note: i=0,1.., X-1; j=0,1,¡Y-1.\n",
    "Example\n",
    "Suppose the following inputs are given to the program:\n",
    "3,5\n",
    "Then, the output of the program should be:\n",
    "[[0, 0, 0, 0, 0], [0, 1, 2, 3, 4], [0, 2, 4, 6, 8]]"
   ]
  },
  {
   "cell_type": "code",
   "execution_count": 2,
   "id": "82b35bbb",
   "metadata": {},
   "outputs": [
    {
     "name": "stdout",
     "output_type": "stream",
     "text": [
      "Enter the value of X: 3\n",
      "Enter the value of Y: 3\n",
      "[0, 0, 0]\n",
      "[0, 1, 2]\n",
      "[0, 2, 4]\n"
     ]
    }
   ],
   "source": [
    "def generate_2d_array(X, Y):\n",
    "    array_2d = [[i * j for j in range(Y)] for i in range(X)]\n",
    "    return array_2d\n",
    "\n",
    "# Example usage\n",
    "X = int(input(\"Enter the value of X: \"))\n",
    "Y = int(input(\"Enter the value of Y: \"))\n",
    "\n",
    "result_array = generate_2d_array(X, Y)\n",
    "\n",
    "for row in result_array:\n",
    "    print(row)\n"
   ]
  },
  {
   "cell_type": "markdown",
   "id": "e9b2a7fb",
   "metadata": {},
   "source": [
    "Write a program that accepts a comma separated sequence of words as input and prints the\n",
    "words in a comma-separated sequence after sorting them alphabetically."
   ]
  },
  {
   "cell_type": "code",
   "execution_count": 3,
   "id": "d74fc806",
   "metadata": {},
   "outputs": [
    {
     "name": "stdout",
     "output_type": "stream",
     "text": [
      "Enter a comma-separated sequence of words: hello,bag,love,you\n",
      "bag,hello,love,you\n"
     ]
    }
   ],
   "source": [
    "def sort_words(input_sequence):\n",
    "    words = input_sequence.split(\",\")\n",
    "    sorted_words = sorted(words)\n",
    "    sorted_sequence = \",\".join(sorted_words)\n",
    "    return sorted_sequence\n",
    "\n",
    "# Example usage\n",
    "input_sequence = input(\"Enter a comma-separated sequence of words: \")\n",
    "sorted_sequence = sort_words(input_sequence)\n",
    "print(sorted_sequence)\n"
   ]
  },
  {
   "cell_type": "markdown",
   "id": "d86d7d54",
   "metadata": {},
   "source": [
    "Write a program that accepts a sequence of whitespace separated words as input and prints\n",
    "the words after removing all duplicate words and sorting them alphanumerically.\n",
    "Suppose the following input is supplied to the program:\n",
    "hello world and practice makes perfect and hello world again\n",
    "Then, the output should be:\n",
    "again and hello makes perfect practice world"
   ]
  },
  {
   "cell_type": "code",
   "execution_count": null,
   "id": "ecb46046",
   "metadata": {},
   "outputs": [],
   "source": [
    "def remove_duplicates_and_sort(input_sequence):\n",
    "    words = input_sequence.split()\n",
    "    unique_words = sorted(set(words))\n",
    "    sorted_sequence = \" \".join(unique_words)\n",
    "    return sorted_sequence\n",
    "\n",
    "# Example usage\n",
    "input_sequence = input(\"Enter a sequence of whitespace-separated words: \")\n",
    "sorted_sequence = remove_duplicates_and_sort(input_sequence)\n",
    "print(sorted_sequence)\n"
   ]
  },
  {
   "cell_type": "markdown",
   "id": "520bd64e",
   "metadata": {},
   "source": [
    "Write a program that accepts a sentence and calculate the number of letters and digits.\n",
    "Suppose the following input is supplied to the program:\n",
    "hello world! 123\n",
    "Then, the output should be:\n",
    "LETTERS 10"
   ]
  },
  {
   "cell_type": "code",
   "execution_count": 5,
   "id": "6a643ba6",
   "metadata": {},
   "outputs": [
    {
     "name": "stdout",
     "output_type": "stream",
     "text": [
      "Enter a sentence: hello world how are you? 143\n",
      "Number of letters: 19\n",
      "Number of digits: 3\n"
     ]
    }
   ],
   "source": [
    "def count_letters_digits(sentence):\n",
    "    letter_count = 0\n",
    "    digit_count = 0\n",
    "    for char in sentence:\n",
    "        if char.isalpha():\n",
    "            letter_count += 1\n",
    "        elif char.isdigit():\n",
    "            digit_count += 1\n",
    "    return letter_count, digit_count\n",
    "\n",
    "# Example usage\n",
    "input_sentence = input(\"Enter a sentence: \")\n",
    "letter_count, digit_count = count_letters_digits(input_sentence)\n",
    "print(\"Number of letters:\", letter_count)\n",
    "print(\"Number of digits:\", digit_count)\n"
   ]
  },
  {
   "cell_type": "code",
   "execution_count": null,
   "id": "ea42dca5",
   "metadata": {},
   "outputs": [],
   "source": []
  }
 ],
 "metadata": {
  "kernelspec": {
   "display_name": "Python 3 (ipykernel)",
   "language": "python",
   "name": "python3"
  },
  "language_info": {
   "codemirror_mode": {
    "name": "ipython",
    "version": 3
   },
   "file_extension": ".py",
   "mimetype": "text/x-python",
   "name": "python",
   "nbconvert_exporter": "python",
   "pygments_lexer": "ipython3",
   "version": "3.10.9"
  }
 },
 "nbformat": 4,
 "nbformat_minor": 5
}
