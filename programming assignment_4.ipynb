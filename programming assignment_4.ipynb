{
 "cells": [
  {
   "cell_type": "markdown",
   "id": "18260480",
   "metadata": {},
   "source": [
    "1. Write a Python Program to Find the Factorial of a Number?"
   ]
  },
  {
   "cell_type": "code",
   "execution_count": 2,
   "id": "687885ed",
   "metadata": {},
   "outputs": [
    {
     "name": "stdout",
     "output_type": "stream",
     "text": [
      "enter the number: 6\n",
      "the factorial of number 6 is 720\n"
     ]
    }
   ],
   "source": [
    "def factorial(n):\n",
    "    if n==0:\n",
    "        return 1\n",
    "    else:\n",
    "        return n*factorial(n-1)\n",
    "n = int(input(\"enter the number: \"))\n",
    "if n<0:\n",
    "    print(\"factorial is not possible for negative number\")\n",
    "else:\n",
    "    result = factorial(n)\n",
    "    print(\"the factorial of number\",n,\"is\",result)\n",
    "        "
   ]
  },
  {
   "cell_type": "markdown",
   "id": "de9107bb",
   "metadata": {},
   "source": [
    "2. Write a Python Program to Display the multiplication Table?"
   ]
  },
  {
   "cell_type": "code",
   "execution_count": 8,
   "id": "3ab21771",
   "metadata": {},
   "outputs": [
    {
     "name": "stdout",
     "output_type": "stream",
     "text": [
      "enter the number6\n",
      "6\n",
      "12\n",
      "18\n",
      "24\n",
      "30\n",
      "36\n",
      "42\n",
      "48\n",
      "54\n",
      "60\n"
     ]
    }
   ],
   "source": [
    "n = int(input(\"enter the number\"))\n",
    "for i in  range (1,11):\n",
    "    print(n*i)"
   ]
  },
  {
   "cell_type": "markdown",
   "id": "323adb1f",
   "metadata": {},
   "source": [
    "3. Write a Python Program to Print the Fibonacci sequence?"
   ]
  },
  {
   "cell_type": "code",
   "execution_count": 9,
   "id": "f12fea95",
   "metadata": {},
   "outputs": [
    {
     "name": "stdout",
     "output_type": "stream",
     "text": [
      "Enter the no of fibonacci sequences you want? 6\n",
      "The First 6 fibonacci series are:  [0, 1, 1, 2, 3, 5]\n"
     ]
    }
   ],
   "source": [
    "s_count = int(input('Enter the no of fibonacci sequences you want? '))\n",
    "initial_list = [0,1]\n",
    "if s_count < 0:\n",
    "    print('Fibonacci Numbers are not available for Negative Numbers')\n",
    "elif s_count <= 2 and s_count >= 0:\n",
    "    print(initial_list)\n",
    "else:\n",
    "    for ins in range(s_count):\n",
    "        if ins >= 2:\n",
    "            initial_list.append(initial_list[ins-1]+initial_list[ins-2])\n",
    "    print(f'The First {s_count} fibonacci series are: ',initial_list)"
   ]
  },
  {
   "cell_type": "markdown",
   "id": "118e9715",
   "metadata": {},
   "source": [
    "4. Write a Python Program to Check Armstrong Number?"
   ]
  },
  {
   "cell_type": "code",
   "execution_count": 11,
   "id": "7520e18e",
   "metadata": {},
   "outputs": [
    {
     "name": "stdout",
     "output_type": "stream",
     "text": [
      "Enter a number: 16\n",
      "16 is not an Armstrong number.\n"
     ]
    }
   ],
   "source": [
    "def is_armstrong_number(num):\n",
    "    # Convert the number to a string\n",
    "    num_str = str(num)\n",
    "    \n",
    "    # Calculate the length of the number\n",
    "    num_length = len(num_str)\n",
    "    \n",
    "    # Initialize the sum variable\n",
    "    armstrong_sum = 0\n",
    "    \n",
    "    # Iterate over each digit in the number\n",
    "    for digit in num_str:\n",
    "        # Convert the digit back to an integer\n",
    "        digit = int(digit)\n",
    "        \n",
    "        # Add the digit raised to the power of num_length to the sum\n",
    "        armstrong_sum += digit ** num_length\n",
    "    \n",
    "    # Check if the sum is equal to the original number\n",
    "    if armstrong_sum == num:\n",
    "        return True\n",
    "    else:\n",
    "        return False\n",
    "\n",
    "# Test the function\n",
    "number = int(input(\"Enter a number: \"))\n",
    "if is_armstrong_number(number):\n",
    "    print(number, \"is an Armstrong number.\")\n",
    "else:\n",
    "    print(number, \"is not an Armstrong number.\")\n"
   ]
  },
  {
   "cell_type": "markdown",
   "id": "2ce6a53f",
   "metadata": {},
   "source": [
    "5. Write a Python Program to Find Armstrong Number in an Interval?"
   ]
  },
  {
   "cell_type": "code",
   "execution_count": 12,
   "id": "088db23a",
   "metadata": {},
   "outputs": [
    {
     "name": "stdout",
     "output_type": "stream",
     "text": [
      "Enter the lower bound of the interval: 1\n",
      "Enter the upper bound of the interval: 10\n",
      "Armstrong numbers in the interval 1 to 10 are:\n",
      "1\n",
      "2\n",
      "3\n",
      "4\n",
      "5\n",
      "6\n",
      "7\n",
      "8\n",
      "9\n"
     ]
    }
   ],
   "source": [
    "def is_armstrong_number(num):\n",
    "    # Convert the number to a string\n",
    "    num_str = str(num)\n",
    "    \n",
    "    # Calculate the length of the number\n",
    "    num_length = len(num_str)\n",
    "    \n",
    "    # Initialize the sum variable\n",
    "    armstrong_sum = 0\n",
    "    \n",
    "    # Iterate over each digit in the number\n",
    "    for digit in num_str:\n",
    "        # Convert the digit back to an integer\n",
    "        digit = int(digit)\n",
    "        \n",
    "        # Add the digit raised to the power of num_length to the sum\n",
    "        armstrong_sum += digit ** num_length\n",
    "    \n",
    "    # Check if the sum is equal to the original number\n",
    "    if armstrong_sum == num:\n",
    "        return True\n",
    "    else:\n",
    "        return False\n",
    "\n",
    "# Take input from the user for the interval\n",
    "lower = int(input(\"Enter the lower bound of the interval: \"))\n",
    "upper = int(input(\"Enter the upper bound of the interval: \"))\n",
    "\n",
    "print(\"Armstrong numbers in the interval\", lower, \"to\", upper, \"are:\")\n",
    "for num in range(lower, upper + 1):\n",
    "    if is_armstrong_number(num):\n",
    "        print(num)\n"
   ]
  },
  {
   "cell_type": "markdown",
   "id": "aa3558a9",
   "metadata": {},
   "source": [
    "6. Write a Python Program to Find the Sum of Natural Numbers?"
   ]
  },
  {
   "cell_type": "code",
   "execution_count": 16,
   "id": "a6ae081d",
   "metadata": {},
   "outputs": [
    {
     "name": "stdout",
     "output_type": "stream",
     "text": [
      "enter the number 6\n",
      "21.0\n"
     ]
    }
   ],
   "source": [
    "n = int(input(\"enter the number \"))\n",
    "if n == 0:\n",
    "    print(\"sum is zero\")\n",
    "else:\n",
    "    print((n)*(n+1)/2)"
   ]
  },
  {
   "cell_type": "code",
   "execution_count": null,
   "id": "abfd64aa",
   "metadata": {},
   "outputs": [],
   "source": []
  }
 ],
 "metadata": {
  "kernelspec": {
   "display_name": "Python 3 (ipykernel)",
   "language": "python",
   "name": "python3"
  },
  "language_info": {
   "codemirror_mode": {
    "name": "ipython",
    "version": 3
   },
   "file_extension": ".py",
   "mimetype": "text/x-python",
   "name": "python",
   "nbconvert_exporter": "python",
   "pygments_lexer": "ipython3",
   "version": "3.10.9"
  }
 },
 "nbformat": 4,
 "nbformat_minor": 5
}
